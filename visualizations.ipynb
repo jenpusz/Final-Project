{
 "cells": [
  {
   "cell_type": "markdown",
   "id": "420cf696",
   "metadata": {},
   "source": [
    "# Import Libraries"
   ]
  },
  {
   "cell_type": "code",
   "execution_count": 20,
   "id": "19f39ba8",
   "metadata": {},
   "outputs": [],
   "source": [
    "import pandas as pd\n",
    "import numpy as np\n",
    "import matplotlib.pyplot as plt\n",
    "from sklearn.model_selection import cross_val_score\n",
    "from sklearn.model_selection import cross_val_predict\n",
    "from sklearn.model_selection import train_test_split\n",
    "from sklearn.model_selection import KFold\n",
    "from sklearn.model_selection import GridSearchCV\n",
    "\n",
    "\n",
    "from sklearn.linear_model import LogisticRegression\n",
    "from sklearn.neighbors import KNeighborsClassifier\n",
    "from sklearn.tree import DecisionTreeClassifier\n",
    "from sklearn.ensemble import RandomForestClassifier\n",
    "from sklearn.ensemble import GradientBoostingClassifier\n",
    "from sklearn.svm import SVC\n",
    "from sklearn.naive_bayes import GaussianNB\n",
    "from sklearn.neural_network import MLPClassifier\n",
    "from sklearn.metrics import accuracy_score\n",
    "\n"
   ]
  },
  {
   "cell_type": "markdown",
   "id": "8c57df81",
   "metadata": {},
   "source": [
    "# Data Dictionary\n",
    "\n",
    "- survival        0 = No, 1 = Yes\n",
    "- pclass\t      Ticket class\t1 = 1st, 2 = 2nd, 3 = 3rd\n",
    "    - pclass: A proxy for socio-economic status (SES)\n",
    "       - 1st = Upper\n",
    "       - 2nd = Middle\n",
    "       - 3rd = Lower\n",
    "- sex\t          Sex\t\n",
    "- Age\t          Age in years\t\n",
    "- sibsp\t          # of siblings / spouses aboard the Titanic\n",
    "    -sibsp: The dataset defines family relations in this way...\n",
    "        - Sibling = brother, sister, stepbrother, stepsister\n",
    "        - Spouse = husband, wife (mistresses and fiancés were ignored)\n",
    "\n",
    "- parch\t          # of parents / children aboard the Titanic\t\n",
    "    - parch: The dataset defines family relations in this way...\n",
    "        - Parent = mother, father\n",
    "        - Child = daughter, son, stepdaughter, stepson\n",
    "        - Some children travelled only with a nanny, therefore parch=0 for them.\n",
    "        \n",
    "- ticket\t      Ticket number\t\n",
    "- fare\t          Passenger fare\t\n",
    "- cabin\t          Cabin number\t\n",
    "- embarked\t      Port of Embarkation\tC = Cherbourg, Q = Queenstown, S = Southampton"
   ]
  },
  {
   "cell_type": "markdown",
   "id": "ea487fa0",
   "metadata": {},
   "source": [
    "## Import DataFiles"
   ]
  },
  {
   "cell_type": "code",
   "execution_count": 21,
   "id": "f9abccfa",
   "metadata": {},
   "outputs": [],
   "source": [
    "#kaggle data\n",
    "train = pd.read_csv('DataSets/Kaggle/train.csv')\n",
    "test = pd.read_csv('DataSets/Kaggle/test.csv')\n",
    "#tensorflow dataset\n",
    "titanic_complete = pd.read_csv('DataSets/TensorFlow/Titanic.csv')"
   ]
  },
  {
   "cell_type": "code",
   "execution_count": 22,
   "id": "ab973600",
   "metadata": {},
   "outputs": [
    {
     "data": {
      "text/html": [
       "<div>\n",
       "<style scoped>\n",
       "    .dataframe tbody tr th:only-of-type {\n",
       "        vertical-align: middle;\n",
       "    }\n",
       "\n",
       "    .dataframe tbody tr th {\n",
       "        vertical-align: top;\n",
       "    }\n",
       "\n",
       "    .dataframe thead th {\n",
       "        text-align: right;\n",
       "    }\n",
       "</style>\n",
       "<table border=\"1\" class=\"dataframe\">\n",
       "  <thead>\n",
       "    <tr style=\"text-align: right;\">\n",
       "      <th></th>\n",
       "      <th>pclass</th>\n",
       "      <th>survived</th>\n",
       "      <th>name</th>\n",
       "      <th>sex</th>\n",
       "      <th>age</th>\n",
       "      <th>sibsp</th>\n",
       "      <th>parch</th>\n",
       "      <th>ticket</th>\n",
       "      <th>fare</th>\n",
       "      <th>cabin</th>\n",
       "      <th>embarked</th>\n",
       "      <th>boat</th>\n",
       "      <th>body</th>\n",
       "      <th>home.dest</th>\n",
       "    </tr>\n",
       "  </thead>\n",
       "  <tbody>\n",
       "    <tr>\n",
       "      <th>0</th>\n",
       "      <td>1</td>\n",
       "      <td>1</td>\n",
       "      <td>Allen, Miss. Elisabeth Walton</td>\n",
       "      <td>female</td>\n",
       "      <td>29</td>\n",
       "      <td>0</td>\n",
       "      <td>0</td>\n",
       "      <td>24160</td>\n",
       "      <td>211.3375</td>\n",
       "      <td>B5</td>\n",
       "      <td>S</td>\n",
       "      <td>2</td>\n",
       "      <td>?</td>\n",
       "      <td>St Louis, MO</td>\n",
       "    </tr>\n",
       "    <tr>\n",
       "      <th>1</th>\n",
       "      <td>1</td>\n",
       "      <td>1</td>\n",
       "      <td>Allison, Master. Hudson Trevor</td>\n",
       "      <td>male</td>\n",
       "      <td>0.9167</td>\n",
       "      <td>1</td>\n",
       "      <td>2</td>\n",
       "      <td>113781</td>\n",
       "      <td>151.55</td>\n",
       "      <td>C22 C26</td>\n",
       "      <td>S</td>\n",
       "      <td>11</td>\n",
       "      <td>?</td>\n",
       "      <td>Montreal, PQ / Chesterville, ON</td>\n",
       "    </tr>\n",
       "    <tr>\n",
       "      <th>2</th>\n",
       "      <td>1</td>\n",
       "      <td>0</td>\n",
       "      <td>Allison, Miss. Helen Loraine</td>\n",
       "      <td>female</td>\n",
       "      <td>2</td>\n",
       "      <td>1</td>\n",
       "      <td>2</td>\n",
       "      <td>113781</td>\n",
       "      <td>151.55</td>\n",
       "      <td>C22 C26</td>\n",
       "      <td>S</td>\n",
       "      <td>?</td>\n",
       "      <td>?</td>\n",
       "      <td>Montreal, PQ / Chesterville, ON</td>\n",
       "    </tr>\n",
       "    <tr>\n",
       "      <th>3</th>\n",
       "      <td>1</td>\n",
       "      <td>0</td>\n",
       "      <td>Allison, Mr. Hudson Joshua Creighton</td>\n",
       "      <td>male</td>\n",
       "      <td>30</td>\n",
       "      <td>1</td>\n",
       "      <td>2</td>\n",
       "      <td>113781</td>\n",
       "      <td>151.55</td>\n",
       "      <td>C22 C26</td>\n",
       "      <td>S</td>\n",
       "      <td>?</td>\n",
       "      <td>135</td>\n",
       "      <td>Montreal, PQ / Chesterville, ON</td>\n",
       "    </tr>\n",
       "    <tr>\n",
       "      <th>4</th>\n",
       "      <td>1</td>\n",
       "      <td>0</td>\n",
       "      <td>Allison, Mrs. Hudson J C (Bessie Waldo Daniels)</td>\n",
       "      <td>female</td>\n",
       "      <td>25</td>\n",
       "      <td>1</td>\n",
       "      <td>2</td>\n",
       "      <td>113781</td>\n",
       "      <td>151.55</td>\n",
       "      <td>C22 C26</td>\n",
       "      <td>S</td>\n",
       "      <td>?</td>\n",
       "      <td>?</td>\n",
       "      <td>Montreal, PQ / Chesterville, ON</td>\n",
       "    </tr>\n",
       "  </tbody>\n",
       "</table>\n",
       "</div>"
      ],
      "text/plain": [
       "   pclass  survived                                             name     sex  \\\n",
       "0       1         1                    Allen, Miss. Elisabeth Walton  female   \n",
       "1       1         1                   Allison, Master. Hudson Trevor    male   \n",
       "2       1         0                     Allison, Miss. Helen Loraine  female   \n",
       "3       1         0             Allison, Mr. Hudson Joshua Creighton    male   \n",
       "4       1         0  Allison, Mrs. Hudson J C (Bessie Waldo Daniels)  female   \n",
       "\n",
       "      age  sibsp  parch  ticket      fare    cabin embarked boat body  \\\n",
       "0      29      0      0   24160  211.3375       B5        S    2    ?   \n",
       "1  0.9167      1      2  113781    151.55  C22 C26        S   11    ?   \n",
       "2       2      1      2  113781    151.55  C22 C26        S    ?    ?   \n",
       "3      30      1      2  113781    151.55  C22 C26        S    ?  135   \n",
       "4      25      1      2  113781    151.55  C22 C26        S    ?    ?   \n",
       "\n",
       "                         home.dest  \n",
       "0                     St Louis, MO  \n",
       "1  Montreal, PQ / Chesterville, ON  \n",
       "2  Montreal, PQ / Chesterville, ON  \n",
       "3  Montreal, PQ / Chesterville, ON  \n",
       "4  Montreal, PQ / Chesterville, ON  "
      ]
     },
     "execution_count": 22,
     "metadata": {},
     "output_type": "execute_result"
    }
   ],
   "source": [
    "titanic_complete.head()"
   ]
  },
  {
   "cell_type": "code",
   "execution_count": 23,
   "id": "be4b1ead",
   "metadata": {},
   "outputs": [
    {
     "data": {
      "text/plain": [
       "(1309, 14)"
      ]
     },
     "execution_count": 23,
     "metadata": {},
     "output_type": "execute_result"
    }
   ],
   "source": [
    "titanic_complete.shape"
   ]
  },
  {
   "cell_type": "code",
   "execution_count": 24,
   "id": "55c679b4",
   "metadata": {},
   "outputs": [
    {
     "data": {
      "text/html": [
       "<div>\n",
       "<style scoped>\n",
       "    .dataframe tbody tr th:only-of-type {\n",
       "        vertical-align: middle;\n",
       "    }\n",
       "\n",
       "    .dataframe tbody tr th {\n",
       "        vertical-align: top;\n",
       "    }\n",
       "\n",
       "    .dataframe thead th {\n",
       "        text-align: right;\n",
       "    }\n",
       "</style>\n",
       "<table border=\"1\" class=\"dataframe\">\n",
       "  <thead>\n",
       "    <tr style=\"text-align: right;\">\n",
       "      <th></th>\n",
       "      <th>pclass</th>\n",
       "      <th>survived</th>\n",
       "      <th>name</th>\n",
       "      <th>sex</th>\n",
       "      <th>age</th>\n",
       "      <th>sibsp</th>\n",
       "      <th>parch</th>\n",
       "      <th>ticket</th>\n",
       "      <th>fare</th>\n",
       "      <th>cabin</th>\n",
       "      <th>embarked</th>\n",
       "      <th>boat</th>\n",
       "      <th>body</th>\n",
       "      <th>home.dest</th>\n",
       "    </tr>\n",
       "  </thead>\n",
       "  <tbody>\n",
       "    <tr>\n",
       "      <th>963</th>\n",
       "      <td>3</td>\n",
       "      <td>0</td>\n",
       "      <td>Leonard, Mr. Lionel</td>\n",
       "      <td>male</td>\n",
       "      <td>36</td>\n",
       "      <td>0</td>\n",
       "      <td>0</td>\n",
       "      <td>LINE</td>\n",
       "      <td>0</td>\n",
       "      <td>?</td>\n",
       "      <td>S</td>\n",
       "      <td>?</td>\n",
       "      <td>?</td>\n",
       "      <td>?</td>\n",
       "    </tr>\n",
       "    <tr>\n",
       "      <th>125</th>\n",
       "      <td>1</td>\n",
       "      <td>0</td>\n",
       "      <td>Fry, Mr. Richard</td>\n",
       "      <td>male</td>\n",
       "      <td>?</td>\n",
       "      <td>0</td>\n",
       "      <td>0</td>\n",
       "      <td>112058</td>\n",
       "      <td>0</td>\n",
       "      <td>B102</td>\n",
       "      <td>S</td>\n",
       "      <td>?</td>\n",
       "      <td>?</td>\n",
       "      <td>?</td>\n",
       "    </tr>\n",
       "    <tr>\n",
       "      <th>410</th>\n",
       "      <td>2</td>\n",
       "      <td>0</td>\n",
       "      <td>Frost, Mr. Anthony Wood 'Archie'</td>\n",
       "      <td>male</td>\n",
       "      <td>?</td>\n",
       "      <td>0</td>\n",
       "      <td>0</td>\n",
       "      <td>239854</td>\n",
       "      <td>0</td>\n",
       "      <td>?</td>\n",
       "      <td>S</td>\n",
       "      <td>?</td>\n",
       "      <td>?</td>\n",
       "      <td>Belfast</td>\n",
       "    </tr>\n",
       "    <tr>\n",
       "      <th>1254</th>\n",
       "      <td>3</td>\n",
       "      <td>1</td>\n",
       "      <td>Tornquist, Mr. William Henry</td>\n",
       "      <td>male</td>\n",
       "      <td>25</td>\n",
       "      <td>0</td>\n",
       "      <td>0</td>\n",
       "      <td>LINE</td>\n",
       "      <td>0</td>\n",
       "      <td>?</td>\n",
       "      <td>S</td>\n",
       "      <td>15</td>\n",
       "      <td>?</td>\n",
       "      <td>?</td>\n",
       "    </tr>\n",
       "    <tr>\n",
       "      <th>528</th>\n",
       "      <td>2</td>\n",
       "      <td>0</td>\n",
       "      <td>Parkes, Mr. Francis 'Frank'</td>\n",
       "      <td>male</td>\n",
       "      <td>?</td>\n",
       "      <td>0</td>\n",
       "      <td>0</td>\n",
       "      <td>239853</td>\n",
       "      <td>0</td>\n",
       "      <td>?</td>\n",
       "      <td>S</td>\n",
       "      <td>?</td>\n",
       "      <td>?</td>\n",
       "      <td>Belfast</td>\n",
       "    </tr>\n",
       "  </tbody>\n",
       "</table>\n",
       "</div>"
      ],
      "text/plain": [
       "      pclass  survived                              name   sex age  sibsp  \\\n",
       "963        3         0               Leonard, Mr. Lionel  male  36      0   \n",
       "125        1         0                  Fry, Mr. Richard  male   ?      0   \n",
       "410        2         0  Frost, Mr. Anthony Wood 'Archie'  male   ?      0   \n",
       "1254       3         1      Tornquist, Mr. William Henry  male  25      0   \n",
       "528        2         0       Parkes, Mr. Francis 'Frank'  male   ?      0   \n",
       "\n",
       "      parch  ticket fare cabin embarked boat body home.dest  \n",
       "963       0    LINE    0     ?        S    ?    ?         ?  \n",
       "125       0  112058    0  B102        S    ?    ?         ?  \n",
       "410       0  239854    0     ?        S    ?    ?   Belfast  \n",
       "1254      0    LINE    0     ?        S   15    ?         ?  \n",
       "528       0  239853    0     ?        S    ?    ?   Belfast  "
      ]
     },
     "execution_count": 24,
     "metadata": {},
     "output_type": "execute_result"
    }
   ],
   "source": [
    "titanic_complete_df = pd.read_csv('DataSets/TensorFlow/Titanic.csv')\n",
    "fare_sort=titanic_complete_df.sort_values(\"fare\", ascending = True)\n",
    "fare_sort.head()"
   ]
  },
  {
   "cell_type": "code",
   "execution_count": 25,
   "id": "74b3129d",
   "metadata": {},
   "outputs": [
    {
     "data": {
      "text/html": [
       "<div>\n",
       "<style scoped>\n",
       "    .dataframe tbody tr th:only-of-type {\n",
       "        vertical-align: middle;\n",
       "    }\n",
       "\n",
       "    .dataframe tbody tr th {\n",
       "        vertical-align: top;\n",
       "    }\n",
       "\n",
       "    .dataframe thead th {\n",
       "        text-align: right;\n",
       "    }\n",
       "</style>\n",
       "<table border=\"1\" class=\"dataframe\">\n",
       "  <thead>\n",
       "    <tr style=\"text-align: right;\">\n",
       "      <th></th>\n",
       "      <th>pclass</th>\n",
       "      <th>survived</th>\n",
       "      <th>name</th>\n",
       "      <th>sex</th>\n",
       "      <th>age</th>\n",
       "      <th>sibsp</th>\n",
       "      <th>parch</th>\n",
       "      <th>ticket</th>\n",
       "      <th>fare</th>\n",
       "      <th>cabin</th>\n",
       "      <th>embarked</th>\n",
       "      <th>boat</th>\n",
       "      <th>body</th>\n",
       "      <th>home.dest</th>\n",
       "    </tr>\n",
       "  </thead>\n",
       "  <tbody>\n",
       "    <tr>\n",
       "      <th>155</th>\n",
       "      <td>1</td>\n",
       "      <td>1</td>\n",
       "      <td>Hays, Mrs. Charles Melville (Clara Jennings Gr...</td>\n",
       "      <td>female</td>\n",
       "      <td>52</td>\n",
       "      <td>1</td>\n",
       "      <td>1</td>\n",
       "      <td>12749</td>\n",
       "      <td>93.5</td>\n",
       "      <td>B69</td>\n",
       "      <td>S</td>\n",
       "      <td>3</td>\n",
       "      <td>?</td>\n",
       "      <td>Montreal, PQ</td>\n",
       "    </tr>\n",
       "    <tr>\n",
       "      <th>230</th>\n",
       "      <td>1</td>\n",
       "      <td>1</td>\n",
       "      <td>Perreault, Miss. Anne</td>\n",
       "      <td>female</td>\n",
       "      <td>30</td>\n",
       "      <td>0</td>\n",
       "      <td>0</td>\n",
       "      <td>12749</td>\n",
       "      <td>93.5</td>\n",
       "      <td>B73</td>\n",
       "      <td>S</td>\n",
       "      <td>3</td>\n",
       "      <td>?</td>\n",
       "      <td>?</td>\n",
       "    </tr>\n",
       "    <tr>\n",
       "      <th>225</th>\n",
       "      <td>1</td>\n",
       "      <td>0</td>\n",
       "      <td>Payne, Mr. Vivian Ponsonby</td>\n",
       "      <td>male</td>\n",
       "      <td>23</td>\n",
       "      <td>0</td>\n",
       "      <td>0</td>\n",
       "      <td>12749</td>\n",
       "      <td>93.5</td>\n",
       "      <td>B24</td>\n",
       "      <td>S</td>\n",
       "      <td>?</td>\n",
       "      <td>?</td>\n",
       "      <td>Montreal, PQ</td>\n",
       "    </tr>\n",
       "    <tr>\n",
       "      <th>154</th>\n",
       "      <td>1</td>\n",
       "      <td>0</td>\n",
       "      <td>Hays, Mr. Charles Melville</td>\n",
       "      <td>male</td>\n",
       "      <td>55</td>\n",
       "      <td>1</td>\n",
       "      <td>1</td>\n",
       "      <td>12749</td>\n",
       "      <td>93.5</td>\n",
       "      <td>B69</td>\n",
       "      <td>S</td>\n",
       "      <td>?</td>\n",
       "      <td>307</td>\n",
       "      <td>Montreal, PQ</td>\n",
       "    </tr>\n",
       "    <tr>\n",
       "      <th>1225</th>\n",
       "      <td>3</td>\n",
       "      <td>0</td>\n",
       "      <td>Storey, Mr. Thomas</td>\n",
       "      <td>male</td>\n",
       "      <td>60.5</td>\n",
       "      <td>0</td>\n",
       "      <td>0</td>\n",
       "      <td>3701</td>\n",
       "      <td>?</td>\n",
       "      <td>?</td>\n",
       "      <td>S</td>\n",
       "      <td>?</td>\n",
       "      <td>261</td>\n",
       "      <td>?</td>\n",
       "    </tr>\n",
       "  </tbody>\n",
       "</table>\n",
       "</div>"
      ],
      "text/plain": [
       "      pclass  survived                                               name  \\\n",
       "155        1         1  Hays, Mrs. Charles Melville (Clara Jennings Gr...   \n",
       "230        1         1                              Perreault, Miss. Anne   \n",
       "225        1         0                         Payne, Mr. Vivian Ponsonby   \n",
       "154        1         0                         Hays, Mr. Charles Melville   \n",
       "1225       3         0                                 Storey, Mr. Thomas   \n",
       "\n",
       "         sex   age  sibsp  parch ticket  fare cabin embarked boat body  \\\n",
       "155   female    52      1      1  12749  93.5   B69        S    3    ?   \n",
       "230   female    30      0      0  12749  93.5   B73        S    3    ?   \n",
       "225     male    23      0      0  12749  93.5   B24        S    ?    ?   \n",
       "154     male    55      1      1  12749  93.5   B69        S    ?  307   \n",
       "1225    male  60.5      0      0   3701     ?     ?        S    ?  261   \n",
       "\n",
       "         home.dest  \n",
       "155   Montreal, PQ  \n",
       "230              ?  \n",
       "225   Montreal, PQ  \n",
       "154   Montreal, PQ  \n",
       "1225             ?  "
      ]
     },
     "execution_count": 25,
     "metadata": {},
     "output_type": "execute_result"
    }
   ],
   "source": [
    "fare_sort.tail()"
   ]
  },
  {
   "cell_type": "code",
   "execution_count": 26,
   "id": "141c7bec",
   "metadata": {},
   "outputs": [],
   "source": [
    "titanic_complete = titanic_complete.replace('?',np.nan)\n",
    "train = train.replace('?',np.nan)\n",
    "test = test.replace('?',np.nan)"
   ]
  },
  {
   "cell_type": "code",
   "execution_count": 27,
   "id": "bc5b3774",
   "metadata": {},
   "outputs": [],
   "source": [
    "#Converting age and fare into float\n",
    "titanic_complete['age'] = titanic_complete['age'].astype(float)\n",
    "titanic_complete['fare'] = titanic_complete['fare'].astype(float)"
   ]
  },
  {
   "cell_type": "markdown",
   "id": "d1a6fff5",
   "metadata": {},
   "source": [
    "## Visualizations"
   ]
  },
  {
   "cell_type": "code",
   "execution_count": 28,
   "id": "bd32a0a4",
   "metadata": {},
   "outputs": [],
   "source": [
    "#Create Function\n",
    "def bar_chart(feature):\n",
    "    survived = titanic_complete[titanic_complete['survived']==1][feature].value_counts()\n",
    "    perished = titanic_complete[titanic_complete['survived']==0][feature].value_counts()\n",
    "    df = pd.DataFrame([survived, perished])\n",
    "    df.index = ['survived','perished']\n",
    "    df.plot(kind='bar', figsize=(10,5))"
   ]
  },
  {
   "cell_type": "code",
   "execution_count": 29,
   "id": "385deb67",
   "metadata": {},
   "outputs": [],
   "source": [
    "def sex_chart(feature):    \n",
    "    male = titanic_complete[titanic_complete['sex']==\"male\"][feature].value_counts()\n",
    "    female = titanic_complete[titanic_complete['sex']==\"female\"][feature].value_counts()\n",
    "    sex_df = pd.DataFrame([male, female])\n",
    "    sex_df.index = ['male', 'female']\n",
    "    sex_df.plot(kind='bar', figsize=(10,5))"
   ]
  },
  {
   "cell_type": "code",
   "execution_count": 30,
   "id": "36d03f6d",
   "metadata": {},
   "outputs": [
    {
     "data": {
      "text/plain": [
       "Text(0.5, 1.0, 'Passenger Survival by Sex')"
      ]
     },
     "execution_count": 30,
     "metadata": {},
     "output_type": "execute_result"
    },
    {
     "data": {
      "image/png": "[encoded data removed]",
      "text/plain": [
       "<Figure size 720x360 with 1 Axes>"
      ]
     },
     "metadata": {
      "needs_background": "light"
     },
     "output_type": "display_data"
    }
   ],
   "source": [
    "bar_chart(\"sex\")\n",
    "plt.ylabel(\"Passenger Count\", fontsize=12)\n",
    "plt.title(\"Passenger Survival by Sex\", fontsize=20)\n"
   ]
  },
  {
   "cell_type": "code",
   "execution_count": 32,
   "id": "7abca735",
   "metadata": {},
   "outputs": [
    {
     "data": {
      "text/plain": [
       "Text(0.5, 1.0, 'Passenger Survival by Ticket Class')"
      ]
     },
     "execution_count": 32,
     "metadata": {},
     "output_type": "execute_result"
    },
    {
     "data": {
      "image/png": "[encoded data removed]",
      "text/plain": [
       "<Figure size 720x360 with 1 Axes>"
      ]
     },
     "metadata": {
      "needs_background": "light"
     },
     "output_type": "display_data"
    }
   ],
   "source": [
    "bar_chart(\"pclass\")\n",
    "plt.ylabel(\"Passenger Count\", fontsize=12)\n",
    "plt.title(\"Passenger Survival by Ticket Class\", fontsize=20)"
   ]
  },
  {
   "cell_type": "code",
   "execution_count": 33,
   "id": "84df680c",
   "metadata": {},
   "outputs": [
    {
     "data": {
      "text/plain": [
       "Text(0.5, 1.0, 'Passenger Survival by Port of Embarkment')"
      ]
     },
     "execution_count": 33,
     "metadata": {},
     "output_type": "execute_result"
    },
    {
     "data": {
      "image/png": "[encoded data removed]",
      "text/plain": [
       "<Figure size 720x360 with 1 Axes>"
      ]
     },
     "metadata": {
      "needs_background": "light"
     },
     "output_type": "display_data"
    }
   ],
   "source": [
    "bar_chart(\"embarked\")\n",
    "plt.ylabel(\"Passenger Count\", fontsize=12)\n",
    "plt.title(\"Passenger Survival by Port of Embarkment\", fontsize=20)\n"
   ]
  },
  {
   "cell_type": "code",
   "execution_count": 34,
   "id": "35faeac9",
   "metadata": {},
   "outputs": [
    {
     "data": {
      "text/plain": [
       "Text(0.5, 1.0, 'Passenger Survival by Sibling/Spouse Count')"
      ]
     },
     "execution_count": 34,
     "metadata": {},
     "output_type": "execute_result"
    },
    {
     "data": {
      "image/png": "[encoded data removed]",
      "text/plain": [
       "<Figure size 720x360 with 1 Axes>"
      ]
     },
     "metadata": {
      "needs_background": "light"
     },
     "output_type": "display_data"
    }
   ],
   "source": [
    "sibsp_bins = [-1,0,1,150]\n",
    "sibsp_names = [\"0\", \"1\", \"2+\"]\n",
    "\n",
    "titanic_complete[\"sibsp category\"]=pd.cut(titanic_complete[\"sibsp\"], sibsp_bins, labels=sibsp_names)\n",
    "bar_chart(\"sibsp category\")\n",
    "plt.ylabel(\"Passenger Count\", fontsize=12)\n",
    "plt.title(\"Passenger Survival by Sibling/Spouse Count\", fontsize=20)"
   ]
  },
  {
   "cell_type": "code",
   "execution_count": 39,
   "id": "a28e25bc",
   "metadata": {},
   "outputs": [
    {
     "data": {
      "text/plain": [
       "Text(0.5, 1.0, 'Passenger Survival by Parent/Child Count')"
      ]
     },
     "execution_count": 39,
     "metadata": {},
     "output_type": "execute_result"
    },
    {
     "data": {
      "image/png": "[encoded data removed]",
      "text/plain": [
       "<Figure size 720x360 with 1 Axes>"
      ]
     },
     "metadata": {
      "needs_background": "light"
     },
     "output_type": "display_data"
    }
   ],
   "source": [
    "parch_bins = [-1,0,1,150]\n",
    "parch_names = [\"0\", \"1\", \"2+\"]\n",
    "titanic_complete[\"parch category\"]=pd.cut(titanic_complete[\"parch\"], parch_bins, labels=parch_names)\n",
    "bar_chart(\"parch category\")\n",
    "plt.ylabel(\"Passenger Count\", fontsize=12)\n",
    "plt.title(\"Passenger Survival by Parent/Child Count\", fontsize=20)"
   ]
  },
  {
   "cell_type": "code",
   "execution_count": 37,
   "id": "d77470cd",
   "metadata": {},
   "outputs": [
    {
     "data": {
      "text/plain": [
       "Text(0.5, 1.0, 'Passenger Survival by Age')"
      ]
     },
     "execution_count": 37,
     "metadata": {},
     "output_type": "execute_result"
    },
    {
     "data": {
      "image/png": "[encoded data removed]",
      "text/plain": [
       "<Figure size 720x360 with 1 Axes>"
      ]
     },
     "metadata": {
      "needs_background": "light"
     },
     "output_type": "display_data"
    }
   ],
   "source": [
    "age_bins = [0,19,60,150]\n",
    "group_names = [\"Child\", \"Adult\", \"Senior\"]\n",
    "\n",
    "titanic_complete[\"age category\"]=pd.cut(titanic_complete[\"age\"], age_bins, labels=group_names)\n",
    "bar_chart(\"age category\")\n",
    "plt.ylabel(\"Passenger Count\", fontsize=12)\n",
    "plt.title(\"Passenger Survival by Age\", fontsize=20)"
   ]
  },
  {
   "cell_type": "code",
   "execution_count": 41,
   "id": "6414a659",
   "metadata": {},
   "outputs": [
    {
     "data": {
      "text/plain": [
       "Text(0.5, 1.0, 'Passenger Survival by Fare')"
      ]
     },
     "execution_count": 41,
     "metadata": {},
     "output_type": "execute_result"
    },
    {
     "data": {
      "image/png": "[encoded data removed]",
      "text/plain": [
       "<Figure size 720x360 with 1 Axes>"
      ]
     },
     "metadata": {
      "needs_background": "light"
     },
     "output_type": "display_data"
    }
   ],
   "source": [
    "fare_bins = [-1, 0, 10, 50, 100]\n",
    "fare_names = [\"Free Passage\", \"Low Fare\", \"Mid Fare\", \"High Fare\"]\n",
    "\n",
    "titanic_complete[\"fare category\"]=pd.cut(titanic_complete[\"fare\"], fare_bins, labels=fare_names)\n",
    "\n",
    "bar_chart(\"fare category\")\n",
    "plt.ylabel(\"Passenger Count\", fontsize = 12)\n",
    "plt.title(\"Passenger Survival by Fare\", fontsize = 20)"
   ]
  },
  {
   "cell_type": "markdown",
   "id": "8f095efa",
   "metadata": {},
   "source": [
    "# Data Cleaning"
   ]
  },
  {
   "cell_type": "code",
   "execution_count": null,
   "id": "a8b500d3",
   "metadata": {},
   "outputs": [],
   "source": [
    "# Dropping unwanted columns\n",
    "titanic_complete=titanic_complete.drop(['name','cabin','body','boat','home.dest'],1)\n",
    "titanic_complete"
   ]
  },
  {
   "cell_type": "code",
   "execution_count": null,
   "id": "67a33fa0",
   "metadata": {},
   "outputs": [],
   "source": [
    "# Dropping unwanted columns\n",
    "train=train.drop(['Name','Cabin'],1)\n",
    "train"
   ]
  },
  {
   "cell_type": "code",
   "execution_count": null,
   "id": "1d49ea4e",
   "metadata": {},
   "outputs": [],
   "source": [
    "# Dropping unwanted columns\n",
    "test=test.drop(['Name','Cabin'],1)\n",
    "test"
   ]
  },
  {
   "cell_type": "markdown",
   "id": "62327eb4",
   "metadata": {},
   "source": [
    "### Finding Missing Values('?') and Fixing them"
   ]
  },
  {
   "cell_type": "code",
   "execution_count": null,
   "id": "5aac0a89",
   "metadata": {},
   "outputs": [],
   "source": [
    "titanic_complete = titanic_complete.replace('?',np.nan)\n",
    "train = train.replace('?',np.nan)\n",
    "test = test.replace('?',np.nan)"
   ]
  },
  {
   "cell_type": "code",
   "execution_count": null,
   "id": "ca17ab51",
   "metadata": {},
   "outputs": [],
   "source": [
    "titanic_complete.dtypes"
   ]
  },
  {
   "cell_type": "code",
   "execution_count": null,
   "id": "a22d5b4a",
   "metadata": {},
   "outputs": [],
   "source": [
    "train.dtypes"
   ]
  },
  {
   "cell_type": "code",
   "execution_count": null,
   "id": "cc577644",
   "metadata": {},
   "outputs": [],
   "source": [
    "test.dtypes"
   ]
  },
  {
   "cell_type": "code",
   "execution_count": null,
   "id": "74dfbc5b",
   "metadata": {},
   "outputs": [],
   "source": [
    "#Converting age and fare into float\n",
    "titanic_complete['age'] = titanic_complete['age'].astype(float)\n",
    "titanic_complete['fare'] = titanic_complete['fare'].astype(float)\n",
    "titanic_complete.dtypes"
   ]
  },
  {
   "cell_type": "code",
   "execution_count": null,
   "id": "6b811fde",
   "metadata": {},
   "outputs": [],
   "source": [
    "#Converting age and fare into float\n",
    "train['Age'] = train['Age'].astype(float)\n",
    "train['Fare'] = train['Fare'].astype(float)\n",
    "train['Sex'] = train['Sex'].astype(float)\n",
    "train.dtypes"
   ]
  },
  {
   "cell_type": "code",
   "execution_count": null,
   "id": "d033421a",
   "metadata": {},
   "outputs": [],
   "source": [
    "#Converting age and fare into float\n",
    "test['Age'] = test['Age'].astype(float)\n",
    "test['Fare'] = test['Fare'].astype(float)\n",
    "test.dtypes"
   ]
  },
  {
   "cell_type": "code",
   "execution_count": null,
   "id": "b1db9ca3",
   "metadata": {},
   "outputs": [],
   "source": [
    "#View Missing Values\n",
    "missing_data = titanic_complete.isnull().sum().sort_values(ascending = False)\n",
    "missing_data"
   ]
  },
  {
   "cell_type": "code",
   "execution_count": null,
   "id": "2e027bd2",
   "metadata": {},
   "outputs": [],
   "source": [
    "#View Missing Values\n",
    "missing_data_train = train.isnull().sum().sort_values(ascending = False)\n",
    "missing_data_train"
   ]
  },
  {
   "cell_type": "code",
   "execution_count": null,
   "id": "259da041",
   "metadata": {},
   "outputs": [],
   "source": [
    "#View Missing Values\n",
    "missing_data_test = test.isnull().sum().sort_values(ascending = False)\n",
    "missing_data_test"
   ]
  },
  {
   "cell_type": "markdown",
   "id": "c58ac2a5",
   "metadata": {},
   "source": [
    "#### AGE"
   ]
  },
  {
   "cell_type": "code",
   "execution_count": null,
   "id": "c1a2c81e",
   "metadata": {},
   "outputs": [],
   "source": [
    "# Fill the missing values with the average of all Ages - MEAN\n",
    "import math\n",
    "mean = titanic_complete['age'].dropna().mean()\n",
    "print(mean)\n",
    "titanic_complete['age'] = titanic_complete['age'].fillna(math.ceil(mean))\n"
   ]
  },
  {
   "cell_type": "code",
   "execution_count": null,
   "id": "d177f28a",
   "metadata": {},
   "outputs": [],
   "source": [
    "# Fill the missing values with the average of all Ages - MEAN\n",
    "mean = train['Age'].dropna().mean()\n",
    "print(mean)\n",
    "train['Age'] = train['Age'].fillna(math.ceil(mean))"
   ]
  },
  {
   "cell_type": "code",
   "execution_count": null,
   "id": "39dd267a",
   "metadata": {},
   "outputs": [],
   "source": [
    "# Fill the missing values with the average of all Ages - MEAN\n",
    "mean = test['Age'].dropna().mean()\n",
    "print(mean)\n",
    "test['Age'] = train['Age'].fillna(math.ceil(mean))"
   ]
  },
  {
   "cell_type": "code",
   "execution_count": null,
   "id": "5e07df27",
   "metadata": {},
   "outputs": [],
   "source": []
  },
  {
   "cell_type": "markdown",
   "id": "69151104",
   "metadata": {},
   "source": [
    "### Embarked"
   ]
  },
  {
   "cell_type": "code",
   "execution_count": null,
   "id": "0e1918d8",
   "metadata": {},
   "outputs": [],
   "source": [
    "# fill nan with Unknown - MODE\n",
    "from statistics import mode\n",
    "titanic_complete['embarked'] = titanic_complete['embarked'].fillna(mode(titanic_complete['embarked']))"
   ]
  },
  {
   "cell_type": "markdown",
   "id": "7cbac884",
   "metadata": {},
   "source": [
    "### Fare"
   ]
  },
  {
   "cell_type": "code",
   "execution_count": null,
   "id": "931b49c9",
   "metadata": {},
   "outputs": [],
   "source": [
    "# fill nan with the most frequent values - MODE\n",
    "from statistics import mode\n",
    "\n",
    "titanic_complete['fare'] = titanic_complete['fare'].fillna(mode(titanic_complete['fare']))\n"
   ]
  },
  {
   "cell_type": "code",
   "execution_count": null,
   "id": "0a0aef6a",
   "metadata": {},
   "outputs": [],
   "source": [
    "#View Missing Values\n",
    "missing_data = titanic_complete.isnull().sum().sort_values(ascending = False)\n",
    "missing_data"
   ]
  },
  {
   "cell_type": "markdown",
   "id": "8139b431",
   "metadata": {},
   "source": [
    "## Converting Categorical Data"
   ]
  },
  {
   "cell_type": "code",
   "execution_count": null,
   "id": "5fb62183",
   "metadata": {},
   "outputs": [],
   "source": [
    "# Use Pandas get_dummies to convert categorical data\n",
    "\n",
    "#titanic_complete = pd.get_dummies(titanic_complete)\n",
    "#titanic_complete.head()\n"
   ]
  },
  {
   "cell_type": "code",
   "execution_count": null,
   "id": "03b73d48",
   "metadata": {},
   "outputs": [],
   "source": [
    "# Remove Extra Categorical Columns"
   ]
  },
  {
   "cell_type": "markdown",
   "id": "d5864eab",
   "metadata": {},
   "source": [
    "## Machine Learning Using cross_val_score\n"
   ]
  },
  {
   "cell_type": "code",
   "execution_count": null,
   "id": "3597b007",
   "metadata": {},
   "outputs": [],
   "source": [
    "from sklearn.model_selection import train_test_split\n",
    "from sklearn.ensemble import RandomForestClassifier\n",
    "from sklearn.preprocessing import LabelEncoder\n",
    "from sklearn.metrics import accuracy_score"
   ]
  },
  {
   "cell_type": "code",
   "execution_count": null,
   "id": "a50ac9bb",
   "metadata": {},
   "outputs": [],
   "source": [
    "le=LabelEncoder()\n",
    "train['Sex']=le.fit_transform(train['Sex'].astype(float))\n",
    "train['Embarked']=le.fit_transform(train['Embarked'].astype(float))\n",
    "train.head()"
   ]
  },
  {
   "cell_type": "code",
   "execution_count": null,
   "id": "fa8f1df9",
   "metadata": {},
   "outputs": [],
   "source": [
    "#Define features and target variables\n",
    "features = [\"Pclass\", \"Sex\", \"SibSp\", \"Age\"]\n",
    "target = \"Survived\"\n",
    "X=train.iloc[:,1:]\n",
    "Y=train['Survived'].ravel()"
   ]
  },
  {
   "cell_type": "code",
   "execution_count": null,
   "id": "c99a14dd",
   "metadata": {},
   "outputs": [],
   "source": [
    "random_state = 1\n",
    "rf = RandomForestClassifier(random_state = 1)\n",
    "score_rf = cross_val_score(rf, train[features], train[target], cv=5)\n",
    "print(\"Random forest model accuracy: %0.2f\" % (score_rf.mean()))\n"
   ]
  },
  {
   "cell_type": "code",
   "execution_count": null,
   "id": "be80f5c3",
   "metadata": {},
   "outputs": [],
   "source": [
    "random_state = 1\n",
    "dt = DecisionTreeClassifier()\n",
    "score_dt = cross_val_score(dt, train[features], train[target], cv=5)\n",
    "print(\"Decision tree model accuracy: %0.2f\" % (score_dt.mean()))"
   ]
  },
  {
   "cell_type": "code",
   "execution_count": null,
   "id": "8d5874b1",
   "metadata": {},
   "outputs": [],
   "source": [
    "random_state = 1\n",
    "svc =SVC(kernel =\"linear\")\n",
    "score_svc = cross_val_score(svc, train[features], train[target], cv=5)\n",
    "print(\"Support vector machine model accuracy: %0.2f\" % (score_svc.mean()))"
   ]
  },
  {
   "cell_type": "code",
   "execution_count": null,
   "id": "be022d79",
   "metadata": {},
   "outputs": [],
   "source": [
    "random_state = 1\n",
    "lr = LogisticRegression()\n",
    "score_lr = cross_val_score(lr, train[features], train[target], cv=5)\n",
    "print(\"Logistic regression model accuracy: %0.2f\" % (score_lr.mean()))"
   ]
  },
  {
   "cell_type": "code",
   "execution_count": null,
   "id": "a2f655a8",
   "metadata": {},
   "outputs": [],
   "source": [
    "random_state = 1\n",
    "nb = GaussianNB()\n",
    "score_nb = cross_val_score(nb, train[features], train[target], cv=5)\n",
    "print(\"Naive Bayes model accuracy: %0.2f\" % (score_nb.mean()))"
   ]
  },
  {
   "cell_type": "code",
   "execution_count": null,
   "id": "be1dddd3",
   "metadata": {},
   "outputs": [],
   "source": [
    "random_state = 1\n",
    "kn = KNeighborsClassifier(n_neighbors = 4, weights = \"distance\")\n",
    "scores_kn = cross_val_score(kn, train[features], train[target], cv=5)\n",
    "print(\"K-nearest neighbors model accuracy: %0.2f\" % (scores_kn.mean()))"
   ]
  },
  {
   "cell_type": "code",
   "execution_count": null,
   "id": "a7bced06",
   "metadata": {},
   "outputs": [],
   "source": [
    "random_state = 1\n",
    "gb =GradientBoostingClassifier(random_state = 42)\n",
    "scores_gb = cross_val_score(gb, train[features], train[target], cv=5)\n",
    "print(\"Gradient boosting model accuracy: %0.2f\" % (scores_gb.mean()))"
   ]
  },
  {
   "cell_type": "code",
   "execution_count": null,
   "id": "11f695af",
   "metadata": {},
   "outputs": [],
   "source": [
    "#Define features and target variables\n",
    "#features = [\"Pclass\", \"Sex\", \"SibSp\", \"Age\"]\n",
    "features = [\"Pclass\", \"Sex\", \"Age\"]\n",
    "target = \"Survived\"\n",
    "X=train.iloc[:,1:]\n",
    "Y=train['Survived'].ravel()\n"
   ]
  },
  {
   "cell_type": "code",
   "execution_count": null,
   "id": "3a8457fe",
   "metadata": {},
   "outputs": [],
   "source": [
    "#Define features and target variables\n",
    "X=titanic_complete.iloc[:,1:]\n",
    "Y=titanic_complete['survived'].ravel()\n",
    "\n",
    "#Divide the dataset into training and testing data\n",
    "X_train, X_test, Y_train, Y_test = train_test_split(X, Y, random_state=1)"
   ]
  },
  {
   "cell_type": "code",
   "execution_count": null,
   "id": "cff9b32b",
   "metadata": {},
   "outputs": [],
   "source": [
    "#Define features and target variables\n",
    "X=train.iloc[:,1:]\n",
    "Y=train['Survived'].ravel()\n"
   ]
  },
  {
   "cell_type": "code",
   "execution_count": null,
   "id": "1b46e4c1",
   "metadata": {},
   "outputs": [],
   "source": [
    "#Converting age and fare into float\n",
    "train['Age'] = train['Age'].astype(float)\n",
    "train['Fare'] = train['Fare'].astype(float)\n",
    "train.dtypes"
   ]
  },
  {
   "cell_type": "code",
   "execution_count": null,
   "id": "0a3e3d3c",
   "metadata": {},
   "outputs": [],
   "source": [
    "random_state = 1\n",
    "model=RandomForestClassifier().fit(X, Y), \n",
    "predict = model.predict(X_test)"
   ]
  },
  {
   "cell_type": "code",
   "execution_count": null,
   "id": "cb39226d",
   "metadata": {},
   "outputs": [],
   "source": []
  },
  {
   "cell_type": "code",
   "execution_count": null,
   "id": "1f88c866",
   "metadata": {},
   "outputs": [],
   "source": []
  },
  {
   "cell_type": "markdown",
   "id": "70145b2b",
   "metadata": {},
   "source": [
    "## Logistic Regression\n",
    "Logistic Regression is a statistical method for predicting binary outcomes from data.\n",
    "\n",
    "Examples of this are \"yes\" vs \"no\" or \"young\" vs \"old\". \n",
    "\n",
    "These are categories that translate to probability of being a 0 or a 1."
   ]
  },
  {
   "cell_type": "code",
   "execution_count": null,
   "id": "9713a15b",
   "metadata": {},
   "outputs": [],
   "source": [
    "# Assign X (data) and y (target)\n",
    "X = titanic_complete.drop('survived', axis = 1)\n",
    "y = titanic_complete['survived']\n",
    "print(X.shape, y.shape)"
   ]
  },
  {
   "cell_type": "markdown",
   "id": "18307397",
   "metadata": {},
   "source": [
    "### Split Data into Training and Testing"
   ]
  },
  {
   "cell_type": "code",
   "execution_count": null,
   "id": "a77e57ce",
   "metadata": {},
   "outputs": [],
   "source": [
    "#from sklearn.model_selection import train_test_split\n",
    "\n",
    "#X_train, X_test, y_train, y_test = train_test_split(X, y, random_state=1)"
   ]
  },
  {
   "cell_type": "code",
   "execution_count": null,
   "id": "84c1a85a",
   "metadata": {},
   "outputs": [],
   "source": [
    "bar_chart('Sex')"
   ]
  },
  {
   "cell_type": "code",
   "execution_count": null,
   "id": "07183a62",
   "metadata": {},
   "outputs": [],
   "source": [
    "bar_chart(\"Pclass\")"
   ]
  },
  {
   "cell_type": "code",
   "execution_count": null,
   "id": "ce74c64f",
   "metadata": {},
   "outputs": [],
   "source": [
    "bar_chart(\"Embarked\")"
   ]
  },
  {
   "cell_type": "code",
   "execution_count": null,
   "id": "3056ddfb",
   "metadata": {},
   "outputs": [],
   "source": []
  }
 ],
 "metadata": {
  "kernelspec": {
   "display_name": "Python 3",
   "language": "python",
   "name": "python3"
  },
  "language_info": {
   "codemirror_mode": {
    "name": "ipython",
    "version": 3
   },
   "file_extension": ".py",
   "mimetype": "text/x-python",
   "name": "python",
   "nbconvert_exporter": "python",
   "pygments_lexer": "ipython3",
   "version": "3.8.8"
  }
 },
 "nbformat": 4,
 "nbformat_minor": 5
}
