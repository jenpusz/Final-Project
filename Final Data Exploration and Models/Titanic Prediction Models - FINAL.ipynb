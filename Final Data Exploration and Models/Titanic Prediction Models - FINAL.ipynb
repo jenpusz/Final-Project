{
 "cells": [
  {
   "cell_type": "markdown",
   "id": "0309e5e0",
   "metadata": {},
   "source": [
    "# Import Libraries"
   ]
  },
  {
   "cell_type": "code",
   "execution_count": 1,
   "id": "c74cddaf",
   "metadata": {},
   "outputs": [
    {
     "name": "stdout",
     "output_type": "stream",
     "text": [
      "Requirement already satisfied: ppscore in c:\\users\\rchauhan\\anaconda3\\lib\\site-packages (1.2.0)\n",
      "Requirement already satisfied: pandas<2.0.0,>=1.0.0 in c:\\users\\rchauhan\\anaconda3\\lib\\site-packages (from ppscore) (1.2.4)\n",
      "Requirement already satisfied: scikit-learn<1.0.0,>=0.20.2 in c:\\users\\rchauhan\\anaconda3\\lib\\site-packages (from ppscore) (0.24.1)\n",
      "Requirement already satisfied: python-dateutil>=2.7.3 in c:\\users\\rchauhan\\anaconda3\\lib\\site-packages (from pandas<2.0.0,>=1.0.0->ppscore) (2.8.1)\n",
      "Requirement already satisfied: pytz>=2017.3 in c:\\users\\rchauhan\\anaconda3\\lib\\site-packages (from pandas<2.0.0,>=1.0.0->ppscore) (2021.1)\n",
      "Requirement already satisfied: numpy>=1.16.5 in c:\\users\\rchauhan\\anaconda3\\lib\\site-packages (from pandas<2.0.0,>=1.0.0->ppscore) (1.20.1)\n",
      "Requirement already satisfied: six>=1.5 in c:\\users\\rchauhan\\anaconda3\\lib\\site-packages (from python-dateutil>=2.7.3->pandas<2.0.0,>=1.0.0->ppscore) (1.15.0)\n",
      "Requirement already satisfied: scipy>=0.19.1 in c:\\users\\rchauhan\\anaconda3\\lib\\site-packages (from scikit-learn<1.0.0,>=0.20.2->ppscore) (1.6.2)\n",
      "Requirement already satisfied: joblib>=0.11 in c:\\users\\rchauhan\\anaconda3\\lib\\site-packages (from scikit-learn<1.0.0,>=0.20.2->ppscore) (1.0.1)\n",
      "Requirement already satisfied: threadpoolctl>=2.0.0 in c:\\users\\rchauhan\\anaconda3\\lib\\site-packages (from scikit-learn<1.0.0,>=0.20.2->ppscore) (2.1.0)\n"
     ]
    }
   ],
   "source": [
    "import pandas as pd\n",
    "import numpy as np\n",
    "import matplotlib.pyplot as plt\n",
    "\n",
    "from sklearn import tree\n",
    "\n",
    "import seaborn as sns\n",
    "\n",
    "#The PPS is an asymmetric, data-type-agnostic score that can detect linear or non-linear relationships between two columns.\n",
    "#The score ranges from 0 (no predictive power) to 1 (perfect predictive power).\n",
    "#It can be used as an alternative to the correlation (matrix).\n",
    "\n",
    "!pip install ppscore\n",
    "import ppscore as pps"
   ]
  },
  {
   "cell_type": "markdown",
   "id": "580d81ab",
   "metadata": {},
   "source": [
    "# Data Dictionary\n",
    "\n",
    "- survival        0 = No, 1 = Yes\n",
    "- pclass\t      Ticket class\t1 = 1st, 2 = 2nd, 3 = 3rd\n",
    "    - pclass: A proxy for socio-economic status (SES)\n",
    "       - 1st = Upper\n",
    "       - 2nd = Middle\n",
    "       - 3rd = Lower\n",
    "- sex\t          Sex\t\n",
    "- Age\t          Age in years\t\n",
    "- sibsp\t          # of siblings / spouses aboard the Titanic\n",
    "    -sibsp: The dataset defines family relations in this way...\n",
    "        - Sibling = brother, sister, stepbrother, stepsister\n",
    "        - Spouse = husband, wife (mistresses and fiancés were ignored)\n",
    "\n",
    "- parch\t          # of parents / children aboard the Titanic\t\n",
    "    - parch: The dataset defines family relations in this way...\n",
    "        - Parent = mother, father\n",
    "        - Child = daughter, son, stepdaughter, stepson\n",
    "        - Some children travelled only with a nanny, therefore parch=0 for them.\n",
    "        \n",
    "- ticket\t      Ticket number\t\n",
    "- fare\t          Passenger fare\t\n",
    "- cabin\t          Cabin number\t\n",
    "- embarked\t      Port of Embarkation\tC = Cherbourg, Q = Queenstown, S = Southampton"
   ]
  },
  {
   "cell_type": "markdown",
   "id": "cb0f2a21",
   "metadata": {},
   "source": [
    "## Import DataFiles"
   ]
  },
  {
   "cell_type": "code",
   "execution_count": 2,
   "id": "30fbbca1",
   "metadata": {},
   "outputs": [],
   "source": [
    "#kaggle_train = pd.read_csv('../DataSets/Kaggle/train.csv')\n",
    "#kaggle_test = pd.read_csv('../DataSets/Kaggle/test.csv')\n",
    "titanic_complete = pd.read_csv('../DataSets/TensorFlow/Titanic.csv')\n",
    "titanic_df = titanic_complete.copy()"
   ]
  },
  {
   "cell_type": "code",
   "execution_count": 3,
   "id": "82fb7db2",
   "metadata": {},
   "outputs": [
    {
     "data": {
      "text/html": [
       "<div>\n",
       "<style scoped>\n",
       "    .dataframe tbody tr th:only-of-type {\n",
       "        vertical-align: middle;\n",
       "    }\n",
       "\n",
       "    .dataframe tbody tr th {\n",
       "        vertical-align: top;\n",
       "    }\n",
       "\n",
       "    .dataframe thead th {\n",
       "        text-align: right;\n",
       "    }\n",
       "</style>\n",
       "<table border=\"1\" class=\"dataframe\">\n",
       "  <thead>\n",
       "    <tr style=\"text-align: right;\">\n",
       "      <th></th>\n",
       "      <th>pclass</th>\n",
       "      <th>survived</th>\n",
       "      <th>name</th>\n",
       "      <th>sex</th>\n",
       "      <th>age</th>\n",
       "      <th>sibsp</th>\n",
       "      <th>parch</th>\n",
       "      <th>ticket</th>\n",
       "      <th>fare</th>\n",
       "      <th>cabin</th>\n",
       "      <th>embarked</th>\n",
       "      <th>boat</th>\n",
       "      <th>body</th>\n",
       "      <th>home.dest</th>\n",
       "    </tr>\n",
       "  </thead>\n",
       "  <tbody>\n",
       "    <tr>\n",
       "      <th>0</th>\n",
       "      <td>1</td>\n",
       "      <td>1</td>\n",
       "      <td>Allen, Miss. Elisabeth Walton</td>\n",
       "      <td>female</td>\n",
       "      <td>29</td>\n",
       "      <td>0</td>\n",
       "      <td>0</td>\n",
       "      <td>24160</td>\n",
       "      <td>211.3375</td>\n",
       "      <td>B5</td>\n",
       "      <td>S</td>\n",
       "      <td>2</td>\n",
       "      <td>?</td>\n",
       "      <td>St Louis, MO</td>\n",
       "    </tr>\n",
       "    <tr>\n",
       "      <th>1</th>\n",
       "      <td>1</td>\n",
       "      <td>1</td>\n",
       "      <td>Allison, Master. Hudson Trevor</td>\n",
       "      <td>male</td>\n",
       "      <td>0.9167</td>\n",
       "      <td>1</td>\n",
       "      <td>2</td>\n",
       "      <td>113781</td>\n",
       "      <td>151.55</td>\n",
       "      <td>C22 C26</td>\n",
       "      <td>S</td>\n",
       "      <td>11</td>\n",
       "      <td>?</td>\n",
       "      <td>Montreal, PQ / Chesterville, ON</td>\n",
       "    </tr>\n",
       "    <tr>\n",
       "      <th>2</th>\n",
       "      <td>1</td>\n",
       "      <td>0</td>\n",
       "      <td>Allison, Miss. Helen Loraine</td>\n",
       "      <td>female</td>\n",
       "      <td>2</td>\n",
       "      <td>1</td>\n",
       "      <td>2</td>\n",
       "      <td>113781</td>\n",
       "      <td>151.55</td>\n",
       "      <td>C22 C26</td>\n",
       "      <td>S</td>\n",
       "      <td>?</td>\n",
       "      <td>?</td>\n",
       "      <td>Montreal, PQ / Chesterville, ON</td>\n",
       "    </tr>\n",
       "    <tr>\n",
       "      <th>3</th>\n",
       "      <td>1</td>\n",
       "      <td>0</td>\n",
       "      <td>Allison, Mr. Hudson Joshua Creighton</td>\n",
       "      <td>male</td>\n",
       "      <td>30</td>\n",
       "      <td>1</td>\n",
       "      <td>2</td>\n",
       "      <td>113781</td>\n",
       "      <td>151.55</td>\n",
       "      <td>C22 C26</td>\n",
       "      <td>S</td>\n",
       "      <td>?</td>\n",
       "      <td>135</td>\n",
       "      <td>Montreal, PQ / Chesterville, ON</td>\n",
       "    </tr>\n",
       "    <tr>\n",
       "      <th>4</th>\n",
       "      <td>1</td>\n",
       "      <td>0</td>\n",
       "      <td>Allison, Mrs. Hudson J C (Bessie Waldo Daniels)</td>\n",
       "      <td>female</td>\n",
       "      <td>25</td>\n",
       "      <td>1</td>\n",
       "      <td>2</td>\n",
       "      <td>113781</td>\n",
       "      <td>151.55</td>\n",
       "      <td>C22 C26</td>\n",
       "      <td>S</td>\n",
       "      <td>?</td>\n",
       "      <td>?</td>\n",
       "      <td>Montreal, PQ / Chesterville, ON</td>\n",
       "    </tr>\n",
       "  </tbody>\n",
       "</table>\n",
       "</div>"
      ],
      "text/plain": [
       "   pclass  survived                                             name     sex  \\\n",
       "0       1         1                    Allen, Miss. Elisabeth Walton  female   \n",
       "1       1         1                   Allison, Master. Hudson Trevor    male   \n",
       "2       1         0                     Allison, Miss. Helen Loraine  female   \n",
       "3       1         0             Allison, Mr. Hudson Joshua Creighton    male   \n",
       "4       1         0  Allison, Mrs. Hudson J C (Bessie Waldo Daniels)  female   \n",
       "\n",
       "      age  sibsp  parch  ticket      fare    cabin embarked boat body  \\\n",
       "0      29      0      0   24160  211.3375       B5        S    2    ?   \n",
       "1  0.9167      1      2  113781    151.55  C22 C26        S   11    ?   \n",
       "2       2      1      2  113781    151.55  C22 C26        S    ?    ?   \n",
       "3      30      1      2  113781    151.55  C22 C26        S    ?  135   \n",
       "4      25      1      2  113781    151.55  C22 C26        S    ?    ?   \n",
       "\n",
       "                         home.dest  \n",
       "0                     St Louis, MO  \n",
       "1  Montreal, PQ / Chesterville, ON  \n",
       "2  Montreal, PQ / Chesterville, ON  \n",
       "3  Montreal, PQ / Chesterville, ON  \n",
       "4  Montreal, PQ / Chesterville, ON  "
      ]
     },
     "execution_count": 3,
     "metadata": {},
     "output_type": "execute_result"
    }
   ],
   "source": [
    "titanic_complete.head()"
   ]
  },
  {
   "cell_type": "markdown",
   "id": "2fe27678",
   "metadata": {},
   "source": [
    "# Data Preprocessing"
   ]
  },
  {
   "cell_type": "code",
   "execution_count": 4,
   "id": "946182e4",
   "metadata": {},
   "outputs": [
    {
     "data": {
      "text/plain": [
       "(1309, 14)"
      ]
     },
     "execution_count": 4,
     "metadata": {},
     "output_type": "execute_result"
    }
   ],
   "source": [
    "titanic_complete.shape"
   ]
  },
  {
   "cell_type": "code",
   "execution_count": 5,
   "id": "cce4e063",
   "metadata": {},
   "outputs": [
    {
     "data": {
      "text/plain": [
       "pclass        int64\n",
       "survived      int64\n",
       "name         object\n",
       "sex          object\n",
       "age          object\n",
       "sibsp         int64\n",
       "parch         int64\n",
       "ticket       object\n",
       "fare         object\n",
       "cabin        object\n",
       "embarked     object\n",
       "boat         object\n",
       "body         object\n",
       "home.dest    object\n",
       "dtype: object"
      ]
     },
     "execution_count": 5,
     "metadata": {},
     "output_type": "execute_result"
    }
   ],
   "source": [
    "titanic_complete.dtypes"
   ]
  },
  {
   "cell_type": "code",
   "execution_count": 6,
   "id": "af7ea353",
   "metadata": {},
   "outputs": [
    {
     "data": {
      "text/html": [
       "<div>\n",
       "<style scoped>\n",
       "    .dataframe tbody tr th:only-of-type {\n",
       "        vertical-align: middle;\n",
       "    }\n",
       "\n",
       "    .dataframe tbody tr th {\n",
       "        vertical-align: top;\n",
       "    }\n",
       "\n",
       "    .dataframe thead th {\n",
       "        text-align: right;\n",
       "    }\n",
       "</style>\n",
       "<table border=\"1\" class=\"dataframe\">\n",
       "  <thead>\n",
       "    <tr style=\"text-align: right;\">\n",
       "      <th></th>\n",
       "      <th>pclass</th>\n",
       "      <th>survived</th>\n",
       "      <th>sex</th>\n",
       "      <th>age</th>\n",
       "      <th>sibsp</th>\n",
       "      <th>parch</th>\n",
       "      <th>fare</th>\n",
       "      <th>embarked</th>\n",
       "    </tr>\n",
       "  </thead>\n",
       "  <tbody>\n",
       "    <tr>\n",
       "      <th>0</th>\n",
       "      <td>1</td>\n",
       "      <td>1</td>\n",
       "      <td>female</td>\n",
       "      <td>29</td>\n",
       "      <td>0</td>\n",
       "      <td>0</td>\n",
       "      <td>211.3375</td>\n",
       "      <td>S</td>\n",
       "    </tr>\n",
       "    <tr>\n",
       "      <th>1</th>\n",
       "      <td>1</td>\n",
       "      <td>1</td>\n",
       "      <td>male</td>\n",
       "      <td>0.9167</td>\n",
       "      <td>1</td>\n",
       "      <td>2</td>\n",
       "      <td>151.55</td>\n",
       "      <td>S</td>\n",
       "    </tr>\n",
       "    <tr>\n",
       "      <th>2</th>\n",
       "      <td>1</td>\n",
       "      <td>0</td>\n",
       "      <td>female</td>\n",
       "      <td>2</td>\n",
       "      <td>1</td>\n",
       "      <td>2</td>\n",
       "      <td>151.55</td>\n",
       "      <td>S</td>\n",
       "    </tr>\n",
       "    <tr>\n",
       "      <th>3</th>\n",
       "      <td>1</td>\n",
       "      <td>0</td>\n",
       "      <td>male</td>\n",
       "      <td>30</td>\n",
       "      <td>1</td>\n",
       "      <td>2</td>\n",
       "      <td>151.55</td>\n",
       "      <td>S</td>\n",
       "    </tr>\n",
       "    <tr>\n",
       "      <th>4</th>\n",
       "      <td>1</td>\n",
       "      <td>0</td>\n",
       "      <td>female</td>\n",
       "      <td>25</td>\n",
       "      <td>1</td>\n",
       "      <td>2</td>\n",
       "      <td>151.55</td>\n",
       "      <td>S</td>\n",
       "    </tr>\n",
       "    <tr>\n",
       "      <th>...</th>\n",
       "      <td>...</td>\n",
       "      <td>...</td>\n",
       "      <td>...</td>\n",
       "      <td>...</td>\n",
       "      <td>...</td>\n",
       "      <td>...</td>\n",
       "      <td>...</td>\n",
       "      <td>...</td>\n",
       "    </tr>\n",
       "    <tr>\n",
       "      <th>1304</th>\n",
       "      <td>3</td>\n",
       "      <td>0</td>\n",
       "      <td>female</td>\n",
       "      <td>14.5</td>\n",
       "      <td>1</td>\n",
       "      <td>0</td>\n",
       "      <td>14.4542</td>\n",
       "      <td>C</td>\n",
       "    </tr>\n",
       "    <tr>\n",
       "      <th>1305</th>\n",
       "      <td>3</td>\n",
       "      <td>0</td>\n",
       "      <td>female</td>\n",
       "      <td>?</td>\n",
       "      <td>1</td>\n",
       "      <td>0</td>\n",
       "      <td>14.4542</td>\n",
       "      <td>C</td>\n",
       "    </tr>\n",
       "    <tr>\n",
       "      <th>1306</th>\n",
       "      <td>3</td>\n",
       "      <td>0</td>\n",
       "      <td>male</td>\n",
       "      <td>26.5</td>\n",
       "      <td>0</td>\n",
       "      <td>0</td>\n",
       "      <td>7.225</td>\n",
       "      <td>C</td>\n",
       "    </tr>\n",
       "    <tr>\n",
       "      <th>1307</th>\n",
       "      <td>3</td>\n",
       "      <td>0</td>\n",
       "      <td>male</td>\n",
       "      <td>27</td>\n",
       "      <td>0</td>\n",
       "      <td>0</td>\n",
       "      <td>7.225</td>\n",
       "      <td>C</td>\n",
       "    </tr>\n",
       "    <tr>\n",
       "      <th>1308</th>\n",
       "      <td>3</td>\n",
       "      <td>0</td>\n",
       "      <td>male</td>\n",
       "      <td>29</td>\n",
       "      <td>0</td>\n",
       "      <td>0</td>\n",
       "      <td>7.875</td>\n",
       "      <td>S</td>\n",
       "    </tr>\n",
       "  </tbody>\n",
       "</table>\n",
       "<p>1309 rows × 8 columns</p>\n",
       "</div>"
      ],
      "text/plain": [
       "      pclass  survived     sex     age  sibsp  parch      fare embarked\n",
       "0          1         1  female      29      0      0  211.3375        S\n",
       "1          1         1    male  0.9167      1      2    151.55        S\n",
       "2          1         0  female       2      1      2    151.55        S\n",
       "3          1         0    male      30      1      2    151.55        S\n",
       "4          1         0  female      25      1      2    151.55        S\n",
       "...      ...       ...     ...     ...    ...    ...       ...      ...\n",
       "1304       3         0  female    14.5      1      0   14.4542        C\n",
       "1305       3         0  female       ?      1      0   14.4542        C\n",
       "1306       3         0    male    26.5      0      0     7.225        C\n",
       "1307       3         0    male      27      0      0     7.225        C\n",
       "1308       3         0    male      29      0      0     7.875        S\n",
       "\n",
       "[1309 rows x 8 columns]"
      ]
     },
     "execution_count": 6,
     "metadata": {},
     "output_type": "execute_result"
    }
   ],
   "source": [
    "# Dropping unwanted columns\n",
    "titanic_complete=titanic_complete.drop(['name','cabin','body','boat','home.dest','ticket'],1)\n",
    "titanic_complete"
   ]
  },
  {
   "cell_type": "code",
   "execution_count": 7,
   "id": "a3a5b73f",
   "metadata": {},
   "outputs": [
    {
     "data": {
      "text/plain": [
       "pclass      0\n",
       "survived    0\n",
       "sex         0\n",
       "age         0\n",
       "sibsp       0\n",
       "parch       0\n",
       "fare        0\n",
       "embarked    0\n",
       "dtype: int64"
      ]
     },
     "execution_count": 7,
     "metadata": {},
     "output_type": "execute_result"
    }
   ],
   "source": [
    "missing_data = titanic_complete.isnull().sum().sort_values(ascending = False)\n",
    "missing_data\n",
    "# Missing Values are populated with \"?\""
   ]
  },
  {
   "cell_type": "markdown",
   "id": "a8f70149",
   "metadata": {},
   "source": [
    "### Finding Missing Values('?') and Fixing them"
   ]
  },
  {
   "cell_type": "code",
   "execution_count": 8,
   "id": "deb63f59",
   "metadata": {},
   "outputs": [],
   "source": [
    "titanic_complete = titanic_complete.replace('?',np.nan)\n"
   ]
  },
  {
   "cell_type": "code",
   "execution_count": 9,
   "id": "eddead45",
   "metadata": {},
   "outputs": [
    {
     "data": {
      "text/plain": [
       "pclass        int64\n",
       "survived      int64\n",
       "sex          object\n",
       "age         float64\n",
       "sibsp         int64\n",
       "parch         int64\n",
       "fare        float64\n",
       "embarked     object\n",
       "dtype: object"
      ]
     },
     "execution_count": 9,
     "metadata": {},
     "output_type": "execute_result"
    }
   ],
   "source": [
    "#Converting age and fare into float\n",
    "titanic_complete['age'] = titanic_complete['age'].astype(float)\n",
    "titanic_complete['fare'] = titanic_complete['fare'].astype(float)\n",
    "titanic_complete.dtypes"
   ]
  },
  {
   "cell_type": "code",
   "execution_count": 10,
   "id": "c314d090",
   "metadata": {},
   "outputs": [
    {
     "data": {
      "text/plain": [
       "age         263\n",
       "embarked      2\n",
       "fare          1\n",
       "pclass        0\n",
       "survived      0\n",
       "sex           0\n",
       "sibsp         0\n",
       "parch         0\n",
       "dtype: int64"
      ]
     },
     "execution_count": 10,
     "metadata": {},
     "output_type": "execute_result"
    }
   ],
   "source": [
    "#View Missing Values\n",
    "missing_data = titanic_complete.isnull().sum().sort_values(ascending = False)\n",
    "missing_data"
   ]
  },
  {
   "cell_type": "markdown",
   "id": "5af05279",
   "metadata": {},
   "source": [
    "#### AGE"
   ]
  },
  {
   "cell_type": "code",
   "execution_count": 11,
   "id": "fe7aa9f8",
   "metadata": {},
   "outputs": [
    {
     "name": "stdout",
     "output_type": "stream",
     "text": [
      "29.8811345124283\n"
     ]
    }
   ],
   "source": [
    "# Fill the missing values with the average of all Ages - MEAN\n",
    "import math\n",
    "\n",
    "mean = titanic_complete['age'].dropna().mean()\n",
    "print(mean)\n",
    "titanic_complete['age'] = titanic_complete['age'].fillna(math.ceil(mean))\n"
   ]
  },
  {
   "cell_type": "markdown",
   "id": "7014ec3d",
   "metadata": {},
   "source": [
    "####  Embarked"
   ]
  },
  {
   "cell_type": "code",
   "execution_count": 12,
   "id": "6b3be30d",
   "metadata": {},
   "outputs": [],
   "source": [
    "# fill nan with Unknown - MODE\n",
    "from statistics import mode\n",
    "#titanic_complete['embarked'] = titanic_complete['embarked'].fillna(mode(titanic_complete['embarked']))\n",
    "titanic_complete['embarked'] = titanic_complete['embarked'].fillna('unknown')"
   ]
  },
  {
   "cell_type": "markdown",
   "id": "321370be",
   "metadata": {},
   "source": [
    "#### Fare"
   ]
  },
  {
   "cell_type": "code",
   "execution_count": 13,
   "id": "152fe1a2",
   "metadata": {},
   "outputs": [],
   "source": [
    "# fill nan with the most frequent values - MODE\n",
    "from statistics import mode\n",
    "\n",
    "titanic_complete['fare'] = titanic_complete['fare'].fillna(mode(titanic_complete['fare']))\n"
   ]
  },
  {
   "cell_type": "code",
   "execution_count": 14,
   "id": "6d9dc8a2",
   "metadata": {},
   "outputs": [
    {
     "data": {
      "text/plain": [
       "pclass      0\n",
       "survived    0\n",
       "sex         0\n",
       "age         0\n",
       "sibsp       0\n",
       "parch       0\n",
       "fare        0\n",
       "embarked    0\n",
       "dtype: int64"
      ]
     },
     "execution_count": 14,
     "metadata": {},
     "output_type": "execute_result"
    }
   ],
   "source": [
    "#View Missing Values\n",
    "missing_data = titanic_complete.isnull().sum().sort_values(ascending = False)\n",
    "missing_data"
   ]
  },
  {
   "cell_type": "markdown",
   "id": "c6a75619",
   "metadata": {},
   "source": [
    "## Converting Categorical Data"
   ]
  },
  {
   "cell_type": "code",
   "execution_count": 15,
   "id": "34ba28e6",
   "metadata": {},
   "outputs": [],
   "source": [
    "# Use Pandas get_dummies to convert categorical data\n",
    "\n",
    "#titanic_complete = pd.get_dummies(titanic_complete,drop_first =True)\n",
    "#titanic_complete.head()\n"
   ]
  },
  {
   "cell_type": "code",
   "execution_count": 16,
   "id": "ad99ac59",
   "metadata": {},
   "outputs": [],
   "source": [
    "#Manually converting\n",
    "titanic_complete['embarked'].replace({'S':1, 'C':2, 'Q':3,'unknown':4}, inplace=True)\n",
    "titanic_complete['sex'].replace({'male':0, 'female':1}, inplace=True)"
   ]
  },
  {
   "cell_type": "code",
   "execution_count": 17,
   "id": "4a3b3662",
   "metadata": {},
   "outputs": [
    {
     "data": {
      "text/html": [
       "<div>\n",
       "<style scoped>\n",
       "    .dataframe tbody tr th:only-of-type {\n",
       "        vertical-align: middle;\n",
       "    }\n",
       "\n",
       "    .dataframe tbody tr th {\n",
       "        vertical-align: top;\n",
       "    }\n",
       "\n",
       "    .dataframe thead th {\n",
       "        text-align: right;\n",
       "    }\n",
       "</style>\n",
       "<table border=\"1\" class=\"dataframe\">\n",
       "  <thead>\n",
       "    <tr style=\"text-align: right;\">\n",
       "      <th></th>\n",
       "      <th>pclass</th>\n",
       "      <th>survived</th>\n",
       "      <th>sex</th>\n",
       "      <th>age</th>\n",
       "      <th>sibsp</th>\n",
       "      <th>parch</th>\n",
       "      <th>fare</th>\n",
       "      <th>embarked</th>\n",
       "    </tr>\n",
       "  </thead>\n",
       "  <tbody>\n",
       "    <tr>\n",
       "      <th>0</th>\n",
       "      <td>1</td>\n",
       "      <td>1</td>\n",
       "      <td>1</td>\n",
       "      <td>29.0000</td>\n",
       "      <td>0</td>\n",
       "      <td>0</td>\n",
       "      <td>211.3375</td>\n",
       "      <td>1</td>\n",
       "    </tr>\n",
       "    <tr>\n",
       "      <th>1</th>\n",
       "      <td>1</td>\n",
       "      <td>1</td>\n",
       "      <td>0</td>\n",
       "      <td>0.9167</td>\n",
       "      <td>1</td>\n",
       "      <td>2</td>\n",
       "      <td>151.5500</td>\n",
       "      <td>1</td>\n",
       "    </tr>\n",
       "    <tr>\n",
       "      <th>2</th>\n",
       "      <td>1</td>\n",
       "      <td>0</td>\n",
       "      <td>1</td>\n",
       "      <td>2.0000</td>\n",
       "      <td>1</td>\n",
       "      <td>2</td>\n",
       "      <td>151.5500</td>\n",
       "      <td>1</td>\n",
       "    </tr>\n",
       "    <tr>\n",
       "      <th>3</th>\n",
       "      <td>1</td>\n",
       "      <td>0</td>\n",
       "      <td>0</td>\n",
       "      <td>30.0000</td>\n",
       "      <td>1</td>\n",
       "      <td>2</td>\n",
       "      <td>151.5500</td>\n",
       "      <td>1</td>\n",
       "    </tr>\n",
       "    <tr>\n",
       "      <th>4</th>\n",
       "      <td>1</td>\n",
       "      <td>0</td>\n",
       "      <td>1</td>\n",
       "      <td>25.0000</td>\n",
       "      <td>1</td>\n",
       "      <td>2</td>\n",
       "      <td>151.5500</td>\n",
       "      <td>1</td>\n",
       "    </tr>\n",
       "  </tbody>\n",
       "</table>\n",
       "</div>"
      ],
      "text/plain": [
       "   pclass  survived  sex      age  sibsp  parch      fare  embarked\n",
       "0       1         1    1  29.0000      0      0  211.3375         1\n",
       "1       1         1    0   0.9167      1      2  151.5500         1\n",
       "2       1         0    1   2.0000      1      2  151.5500         1\n",
       "3       1         0    0  30.0000      1      2  151.5500         1\n",
       "4       1         0    1  25.0000      1      2  151.5500         1"
      ]
     },
     "execution_count": 17,
     "metadata": {},
     "output_type": "execute_result"
    }
   ],
   "source": [
    "titanic_complete.head()\n"
   ]
  },
  {
   "cell_type": "code",
   "execution_count": 20,
   "id": "27fad841",
   "metadata": {},
   "outputs": [
    {
     "data": {
      "text/html": [
       "<div>\n",
       "<style scoped>\n",
       "    .dataframe tbody tr th:only-of-type {\n",
       "        vertical-align: middle;\n",
       "    }\n",
       "\n",
       "    .dataframe tbody tr th {\n",
       "        vertical-align: top;\n",
       "    }\n",
       "\n",
       "    .dataframe thead th {\n",
       "        text-align: right;\n",
       "    }\n",
       "</style>\n",
       "<table border=\"1\" class=\"dataframe\">\n",
       "  <thead>\n",
       "    <tr style=\"text-align: right;\">\n",
       "      <th></th>\n",
       "      <th>survived</th>\n",
       "      <th>pclass</th>\n",
       "      <th>sex</th>\n",
       "      <th>age</th>\n",
       "      <th>sibsp</th>\n",
       "      <th>parch</th>\n",
       "      <th>fare</th>\n",
       "      <th>embarked</th>\n",
       "    </tr>\n",
       "  </thead>\n",
       "  <tbody>\n",
       "    <tr>\n",
       "      <th>0</th>\n",
       "      <td>1</td>\n",
       "      <td>1</td>\n",
       "      <td>1</td>\n",
       "      <td>29.0000</td>\n",
       "      <td>0</td>\n",
       "      <td>0</td>\n",
       "      <td>211.3375</td>\n",
       "      <td>1</td>\n",
       "    </tr>\n",
       "    <tr>\n",
       "      <th>1</th>\n",
       "      <td>1</td>\n",
       "      <td>1</td>\n",
       "      <td>0</td>\n",
       "      <td>0.9167</td>\n",
       "      <td>1</td>\n",
       "      <td>2</td>\n",
       "      <td>151.5500</td>\n",
       "      <td>1</td>\n",
       "    </tr>\n",
       "    <tr>\n",
       "      <th>2</th>\n",
       "      <td>0</td>\n",
       "      <td>1</td>\n",
       "      <td>1</td>\n",
       "      <td>2.0000</td>\n",
       "      <td>1</td>\n",
       "      <td>2</td>\n",
       "      <td>151.5500</td>\n",
       "      <td>1</td>\n",
       "    </tr>\n",
       "    <tr>\n",
       "      <th>3</th>\n",
       "      <td>0</td>\n",
       "      <td>1</td>\n",
       "      <td>0</td>\n",
       "      <td>30.0000</td>\n",
       "      <td>1</td>\n",
       "      <td>2</td>\n",
       "      <td>151.5500</td>\n",
       "      <td>1</td>\n",
       "    </tr>\n",
       "    <tr>\n",
       "      <th>4</th>\n",
       "      <td>0</td>\n",
       "      <td>1</td>\n",
       "      <td>1</td>\n",
       "      <td>25.0000</td>\n",
       "      <td>1</td>\n",
       "      <td>2</td>\n",
       "      <td>151.5500</td>\n",
       "      <td>1</td>\n",
       "    </tr>\n",
       "  </tbody>\n",
       "</table>\n",
       "</div>"
      ],
      "text/plain": [
       "   survived  pclass  sex      age  sibsp  parch      fare  embarked\n",
       "0         1       1    1  29.0000      0      0  211.3375         1\n",
       "1         1       1    0   0.9167      1      2  151.5500         1\n",
       "2         0       1    1   2.0000      1      2  151.5500         1\n",
       "3         0       1    0  30.0000      1      2  151.5500         1\n",
       "4         0       1    1  25.0000      1      2  151.5500         1"
      ]
     },
     "execution_count": 20,
     "metadata": {},
     "output_type": "execute_result"
    }
   ],
   "source": [
    "titanic_complete = titanic_complete[['survived','pclass','sex','age','sibsp','parch','fare','embarked']]\n",
    "titanic_complete.head()\n"
   ]
  },
  {
   "cell_type": "markdown",
   "id": "ec68811d",
   "metadata": {},
   "source": [
    "## Correlation"
   ]
  },
  {
   "cell_type": "code",
   "execution_count": 21,
   "id": "15eba875",
   "metadata": {},
   "outputs": [
    {
     "name": "stdout",
     "output_type": "stream",
     "text": [
      "Survived: 500 (38.2%)\n",
      "Not Survived: 809 (61.8%)\n",
      "Total: 1309\n"
     ]
    }
   ],
   "source": [
    "survived = titanic_complete[titanic_complete['survived'] == 1]\n",
    "not_survived = titanic_complete[titanic_complete['survived'] == 0]\n",
    "\n",
    "print (\"Survived: %i (%.1f%%)\"%(len(survived), float(len(survived))/len(titanic_complete)*100.0))\n",
    "print (\"Not Survived: %i (%.1f%%)\"%(len(not_survived), float(len(not_survived))/len(titanic_complete)*100.0))\n",
    "print (\"Total: %i\"%len(titanic_complete))"
   ]
  },
  {
   "cell_type": "markdown",
   "id": "b3981257",
   "metadata": {},
   "source": [
    "### Heatmap of Correlation between different features:\n",
    "\n",
    " Positive numbers = Positive correlation, i.e. increase in one feature will increase the other feature & vice-versa.\n",
    " \n",
    " Negative numbers = Negative correlation, i.e. increase in one feature will decrease the other feature & vice-versa.\n",
    " \n",
    " In our case, we focus on which features have strong positive or negative correlation with the Survived feature."
   ]
  },
  {
   "cell_type": "code",
   "execution_count": 22,
   "id": "2704aaf4",
   "metadata": {},
   "outputs": [
    {
     "data": {
      "text/plain": [
       "<AxesSubplot:>"
      ]
     },
     "execution_count": 22,
     "metadata": {},
     "output_type": "execute_result"
    },
    {
     "data": {
      "image/png": "[encoded data removed]",
      "text/plain": [
       "<Figure size 1080x432 with 2 Axes>"
      ]
     },
     "metadata": {
      "needs_background": "light"
     },
     "output_type": "display_data"
    }
   ],
   "source": [
    "plt.figure(figsize=(15,6))\n",
    "sns.heatmap(titanic_complete.corr(),vmax=0.6, square=True,annot=True)"
   ]
  },
  {
   "cell_type": "code",
   "execution_count": 23,
   "id": "02f8fb0a",
   "metadata": {},
   "outputs": [],
   "source": [
    "#Dropping embarked feature\n",
    "titanic_complete=titanic_complete.drop(['embarked'],1)"
   ]
  },
  {
   "cell_type": "code",
   "execution_count": 24,
   "id": "10f6742d",
   "metadata": {},
   "outputs": [
    {
     "name": "stdout",
     "output_type": "stream",
     "text": [
      "(1309, 6) (1309,)\n"
     ]
    }
   ],
   "source": [
    "# Assign X (data) and y (target)\n",
    "X = titanic_complete.drop('survived', axis = 1)\n",
    "y = titanic_complete['survived']\n",
    "print(X.shape, y.shape)"
   ]
  },
  {
   "cell_type": "markdown",
   "id": "9251b6ed",
   "metadata": {},
   "source": [
    "### Split Data into Training and Testing"
   ]
  },
  {
   "cell_type": "code",
   "execution_count": 25,
   "id": "33079206",
   "metadata": {},
   "outputs": [],
   "source": [
    "from sklearn.model_selection import train_test_split\n",
    "X_train, X_test, y_train, y_test = train_test_split(X, y, random_state=1)"
   ]
  },
  {
   "cell_type": "code",
   "execution_count": 26,
   "id": "31297143",
   "metadata": {},
   "outputs": [],
   "source": [
    "#feature Scaling\n",
    "\n",
    "#from sklearn.preprocessing import StandardScaler\n",
    "#sc = StandardScaler()\n",
    "#X_train = sc.fit_transform(X_train)\n",
    "#X_test = sc.transform(X_test)"
   ]
  },
  {
   "cell_type": "code",
   "execution_count": 27,
   "id": "3dab47bb",
   "metadata": {},
   "outputs": [],
   "source": [
    "from sklearn.preprocessing import MinMaxScaler \n",
    "X_scaler = MinMaxScaler().fit(X_train)\n",
    "X_train_scaled = X_scaler.transform(X_train)\n",
    "X_test_scaled = X_scaler.transform(X_test)"
   ]
  },
  {
   "cell_type": "markdown",
   "id": "da0ff9bb",
   "metadata": {},
   "source": [
    "## 1. Logistic Regression "
   ]
  },
  {
   "cell_type": "markdown",
   "id": "dc0f2829",
   "metadata": {},
   "source": [
    "\n",
    "Logistic Regression is a statistical method for predicting binary outcomes from data.\n",
    "\n",
    "Examples of this are \"yes\" vs \"no\" or \"young\" vs \"old\". \n",
    "\n",
    "These are categories that translate to probability of being a 0 or a 1."
   ]
  },
  {
   "cell_type": "code",
   "execution_count": 59,
   "id": "997f93f3",
   "metadata": {},
   "outputs": [],
   "source": [
    "#libraries for model evaluation\n",
    "from sklearn.metrics import accuracy_score\n",
    "from sklearn.metrics import plot_confusion_matrix\n",
    "from sklearn.metrics import classification_report"
   ]
  },
  {
   "cell_type": "code",
   "execution_count": 64,
   "id": "7dc75145",
   "metadata": {},
   "outputs": [
    {
     "name": "stdout",
     "output_type": "stream",
     "text": [
      "Training Data Score: 77.47 %\n",
      "Testing Data Score: 81.4 %\n"
     ]
    }
   ],
   "source": [
    "#Using scaled Dataset\n",
    "from sklearn.linear_model import LogisticRegression\n",
    "\n",
    "model_LogisticRegression  = LogisticRegression()\n",
    "model_LogisticRegression .fit(X_train_scaled, y_train)\n",
    "y_pred = model_LogisticRegression .predict(X_test_scaled)\n",
    "\n",
    "train_log = round(model_LogisticRegression.score(X_train_scaled, y_train) * 100, 2)\n",
    "test_log = round(model_LogisticRegression.score(X_test_scaled, y_test) * 100, 2)\n",
    "\n",
    "print(f\"Training Data Score: {round(model_LogisticRegression.score(X_train_scaled, y_train) * 100, 2)} %\")\n",
    "print(f\"Testing Data Score: {round(model_LogisticRegression.score(X_test_scaled, y_test) * 100, 2)} %\")\n",
    "\n"
   ]
  },
  {
   "cell_type": "code",
   "execution_count": 30,
   "id": "edb52236",
   "metadata": {},
   "outputs": [
    {
     "name": "stdout",
     "output_type": "stream",
     "text": [
      "First 10 Predictions:   [0 0 1 0 1 0 0 1 1 0]\n",
      "First 10 Actual labels: [0, 0, 1, 0, 1, 0, 0, 1, 1, 0]\n"
     ]
    }
   ],
   "source": [
    "predictions = model_LogisticRegression.predict(X_test_scaled)\n",
    "print(f\"First 10 Predictions:   {predictions[:10]}\")\n",
    "print(f\"First 10 Actual labels: {y_test[:10].tolist()}\")"
   ]
  },
  {
   "cell_type": "code",
   "execution_count": 31,
   "id": "a21da218",
   "metadata": {},
   "outputs": [],
   "source": [
    "#pd.DataFrame({\"Prediction\": predictions, \"Actual\": y_test}).reset_index(drop=True)"
   ]
  },
  {
   "cell_type": "code",
   "execution_count": 32,
   "id": "2ecb313c",
   "metadata": {},
   "outputs": [
    {
     "name": "stdout",
     "output_type": "stream",
     "text": [
      "[[172  23]\n",
      " [ 38  95]]\n",
      "0.8140243902439024\n"
     ]
    }
   ],
   "source": [
    "# Creating Confusion Matrix\n",
    "list = []\n",
    "from sklearn.metrics import confusion_matrix, accuracy_score\n",
    "cm = confusion_matrix(y_test, y_pred)\n",
    "ac = accuracy_score(y_test, y_pred)\n",
    "list.append(ac)\n",
    "print (cm)\n",
    "print (ac)"
   ]
  },
  {
   "cell_type": "code",
   "execution_count": 33,
   "id": "2c5044c5",
   "metadata": {},
   "outputs": [
    {
     "data": {
      "text/html": [
       "<div>\n",
       "<style scoped>\n",
       "    .dataframe tbody tr th:only-of-type {\n",
       "        vertical-align: middle;\n",
       "    }\n",
       "\n",
       "    .dataframe tbody tr th {\n",
       "        vertical-align: top;\n",
       "    }\n",
       "\n",
       "    .dataframe thead th {\n",
       "        text-align: right;\n",
       "    }\n",
       "</style>\n",
       "<table border=\"1\" class=\"dataframe\">\n",
       "  <thead>\n",
       "    <tr style=\"text-align: right;\">\n",
       "      <th></th>\n",
       "      <th>survived</th>\n",
       "      <th>pclass</th>\n",
       "      <th>sex</th>\n",
       "      <th>age</th>\n",
       "      <th>sibsp</th>\n",
       "      <th>parch</th>\n",
       "      <th>fare</th>\n",
       "    </tr>\n",
       "  </thead>\n",
       "  <tbody>\n",
       "    <tr>\n",
       "      <th>0</th>\n",
       "      <td>1</td>\n",
       "      <td>1</td>\n",
       "      <td>1</td>\n",
       "      <td>29.0000</td>\n",
       "      <td>0</td>\n",
       "      <td>0</td>\n",
       "      <td>211.3375</td>\n",
       "    </tr>\n",
       "    <tr>\n",
       "      <th>1</th>\n",
       "      <td>1</td>\n",
       "      <td>1</td>\n",
       "      <td>0</td>\n",
       "      <td>0.9167</td>\n",
       "      <td>1</td>\n",
       "      <td>2</td>\n",
       "      <td>151.5500</td>\n",
       "    </tr>\n",
       "    <tr>\n",
       "      <th>2</th>\n",
       "      <td>0</td>\n",
       "      <td>1</td>\n",
       "      <td>1</td>\n",
       "      <td>2.0000</td>\n",
       "      <td>1</td>\n",
       "      <td>2</td>\n",
       "      <td>151.5500</td>\n",
       "    </tr>\n",
       "    <tr>\n",
       "      <th>3</th>\n",
       "      <td>0</td>\n",
       "      <td>1</td>\n",
       "      <td>0</td>\n",
       "      <td>30.0000</td>\n",
       "      <td>1</td>\n",
       "      <td>2</td>\n",
       "      <td>151.5500</td>\n",
       "    </tr>\n",
       "    <tr>\n",
       "      <th>4</th>\n",
       "      <td>0</td>\n",
       "      <td>1</td>\n",
       "      <td>1</td>\n",
       "      <td>25.0000</td>\n",
       "      <td>1</td>\n",
       "      <td>2</td>\n",
       "      <td>151.5500</td>\n",
       "    </tr>\n",
       "  </tbody>\n",
       "</table>\n",
       "</div>"
      ],
      "text/plain": [
       "   survived  pclass  sex      age  sibsp  parch      fare\n",
       "0         1       1    1  29.0000      0      0  211.3375\n",
       "1         1       1    0   0.9167      1      2  151.5500\n",
       "2         0       1    1   2.0000      1      2  151.5500\n",
       "3         0       1    0  30.0000      1      2  151.5500\n",
       "4         0       1    1  25.0000      1      2  151.5500"
      ]
     },
     "execution_count": 33,
     "metadata": {},
     "output_type": "execute_result"
    }
   ],
   "source": [
    "titanic_complete.head()"
   ]
  },
  {
   "cell_type": "markdown",
   "id": "28fc9a32",
   "metadata": {},
   "source": [
    "#### Testing with new data set"
   ]
  },
  {
   "cell_type": "code",
   "execution_count": 37,
   "id": "82ee23ba",
   "metadata": {},
   "outputs": [
    {
     "name": "stdout",
     "output_type": "stream",
     "text": [
      "[1]\n"
     ]
    }
   ],
   "source": [
    "#pclass,age,sibsp,parch,fare,sex_male,embarked_Q,embarked_S\n",
    "new_titanic_data =[[1,0,30.0000,1,2,151.5500]]\n",
    "new_titanic_data_2 =[[1,0,2.0000,1,2,151.5500]]\n",
    "\n",
    "from sklearn.preprocessing import StandardScaler\n",
    "sc = StandardScaler()\n",
    "\n",
    "new_scaled_data =sc.fit_transform(new_titanic_data)\n",
    "predicted_class = model_LogisticRegression.predict(new_scaled_data)\n",
    "print(predicted_class)"
   ]
  },
  {
   "cell_type": "markdown",
   "id": "34c37ac5",
   "metadata": {},
   "source": [
    "## 2. Decision Tree"
   ]
  },
  {
   "cell_type": "code",
   "execution_count": 38,
   "id": "4fdae036",
   "metadata": {},
   "outputs": [
    {
     "name": "stdout",
     "output_type": "stream",
     "text": [
      "Training Data Score: 97.04 %\n",
      "Testing Data Score: 75.91 %\n"
     ]
    }
   ],
   "source": [
    "from sklearn.tree import DecisionTreeClassifier\n",
    "\n",
    "decision_tree = tree.DecisionTreeClassifier()\n",
    "decision_tree.fit(X_train, y_train)\n",
    "\n",
    "y_pred = decision_tree.predict(X_test)\n",
    "\n",
    "train_decision_tree = round(decision_tree.score(X_train, y_train) * 100, 2)\n",
    "test_decision_tree = round(decision_tree.score(X_test, y_test) * 100, 2)\n",
    "\n",
    "print(f\"Training Data Score: {round(decision_tree.score(X_train, y_train) * 100, 2)} %\")\n",
    "print(f\"Testing Data Score: {round(decision_tree.score(X_test, y_test) * 100, 2)} %\")"
   ]
  },
  {
   "cell_type": "code",
   "execution_count": 40,
   "id": "e34db0e2",
   "metadata": {},
   "outputs": [
    {
     "name": "stdout",
     "output_type": "stream",
     "text": [
      "[0]\n"
     ]
    }
   ],
   "source": [
    "#Testing with new data\n",
    "\n",
    "new_titanic_data =[[1,0,30.0000,1,2,151.5500]]\n",
    "predicted_class = decision_tree.predict(new_titanic_data)\n",
    "print(predicted_class)"
   ]
  },
  {
   "cell_type": "markdown",
   "id": "27d681f8",
   "metadata": {},
   "source": [
    "## 3. Random Forest"
   ]
  },
  {
   "cell_type": "code",
   "execution_count": 41,
   "id": "deefef00",
   "metadata": {},
   "outputs": [
    {
     "name": "stdout",
     "output_type": "stream",
     "text": [
      "Training Data Score: 97.04 %\n",
      "Testing Data Score: 77.44 %\n"
     ]
    }
   ],
   "source": [
    "from sklearn.ensemble import RandomForestClassifier\n",
    "\n",
    "rf = RandomForestClassifier(n_estimators=100)\n",
    "rf.fit(X_train, y_train)\n",
    "\n",
    "y_pred = rf.predict(X_test)\n",
    "\n",
    "train_random_forest = round(rf.score(X_train, y_train) * 100, 2)\n",
    "test_random_forest = round(rf.score(X_test, y_test) * 100, 2)\n",
    "\n",
    "print(f\"Training Data Score: {round(rf.score(X_train, y_train) * 100, 2)} %\")\n",
    "print(f\"Testing Data Score: {round(rf.score(X_test, y_test) * 100, 2)} %\")"
   ]
  },
  {
   "cell_type": "markdown",
   "id": "ec1a5766",
   "metadata": {},
   "source": [
    "## 4. K Nearest Neighbor"
   ]
  },
  {
   "cell_type": "code",
   "execution_count": 42,
   "id": "70960673",
   "metadata": {},
   "outputs": [
    {
     "name": "stdout",
     "output_type": "stream",
     "text": [
      "Training Data Score: 82.87 %\n",
      "Testing Data Score: 64.63 %\n"
     ]
    }
   ],
   "source": [
    "from sklearn.neighbors import KNeighborsClassifier\n",
    "\n",
    "knn = KNeighborsClassifier(n_neighbors = 3)\n",
    "knn.fit(X_train, y_train)\n",
    "\n",
    "y_pred = knn.predict(X_test)\n",
    "\n",
    "train_knn = round(knn.score(X_train, y_train) * 100, 2)\n",
    "test_knn = round(knn.score(X_test, y_test) * 100, 2)\n",
    "\n",
    "print(f\"Training Data Score: {round(knn.score(X_train, y_train) * 100, 2)} %\")\n",
    "print(f\"Testing Data Score: {round(knn.score(X_test, y_test) * 100, 2)} %\")\n"
   ]
  },
  {
   "cell_type": "markdown",
   "id": "ba6d3fb1",
   "metadata": {},
   "source": [
    "## 5. Support Vector Machine"
   ]
  },
  {
   "cell_type": "code",
   "execution_count": 43,
   "id": "09bc18be",
   "metadata": {},
   "outputs": [
    {
     "name": "stdout",
     "output_type": "stream",
     "text": [
      "Training Data Score: 69.42 %\n",
      "Testing Data Score: 63.11 %\n"
     ]
    }
   ],
   "source": [
    "from sklearn.svm import SVC\n",
    "\n",
    "svm = SVC()\n",
    "svm.fit(X_train, y_train)\n",
    "\n",
    "\n",
    "train_svc = round(svm.score(X_train, y_train) * 100, 2)\n",
    "test_svc = round(svm.score(X_test, y_test) * 100, 2)\n",
    "\n",
    "print(f\"Training Data Score: {round(svm.score(X_train, y_train) * 100, 2)} %\")\n",
    "print(f\"Testing Data Score: {round(svm.score(X_test, y_test) * 100, 2)} %\")\n"
   ]
  },
  {
   "cell_type": "markdown",
   "id": "46592f4a",
   "metadata": {},
   "source": [
    "## 6. Linear SVM"
   ]
  },
  {
   "cell_type": "code",
   "execution_count": 49,
   "id": "5bb76898",
   "metadata": {},
   "outputs": [
    {
     "name": "stdout",
     "output_type": "stream",
     "text": [
      "Training Data Score: 75.54 %\n",
      "Testing Data Score: 72.26 %\n"
     ]
    },
    {
     "name": "stderr",
     "output_type": "stream",
     "text": [
      "C:\\Users\\rchauhan\\Anaconda3\\lib\\site-packages\\sklearn\\svm\\_base.py:985: ConvergenceWarning: Liblinear failed to converge, increase the number of iterations.\n",
      "  warnings.warn(\"Liblinear failed to converge, increase \"\n"
     ]
    }
   ],
   "source": [
    "from sklearn.svm import LinearSVC\n",
    "\n",
    "linear_svm = LinearSVC()\n",
    "linear_svm.fit(X_train, y_train)\n",
    "\n",
    "\n",
    "train_linear_svm = round(linear_svm.score(X_train, y_train) * 100, 2)\n",
    "test_linear_svm = round(linear_svm.score(X_test, y_test) * 100, 2)\n",
    "\n",
    "print(f\"Training Data Score: {round(linear_svm.score(X_train, y_train) * 100, 2)} %\")\n",
    "print(f\"Testing Data Score: {round(linear_svm.score(X_test, y_test) * 100, 2)} %\")"
   ]
  },
  {
   "cell_type": "markdown",
   "id": "c90c37d4",
   "metadata": {},
   "source": [
    "### ***********Grid Search TO DO"
   ]
  },
  {
   "cell_type": "markdown",
   "id": "c1d4c390",
   "metadata": {},
   "source": [
    "# Model Evaluation"
   ]
  },
  {
   "cell_type": "code",
   "execution_count": 52,
   "id": "30e5ba2b",
   "metadata": {},
   "outputs": [
    {
     "data": {
      "text/html": [
       "<div>\n",
       "<style scoped>\n",
       "    .dataframe tbody tr th:only-of-type {\n",
       "        vertical-align: middle;\n",
       "    }\n",
       "\n",
       "    .dataframe tbody tr th {\n",
       "        vertical-align: top;\n",
       "    }\n",
       "\n",
       "    .dataframe thead th {\n",
       "        text-align: right;\n",
       "    }\n",
       "</style>\n",
       "<table border=\"1\" class=\"dataframe\">\n",
       "  <thead>\n",
       "    <tr style=\"text-align: right;\">\n",
       "      <th></th>\n",
       "      <th>Model</th>\n",
       "      <th>Training_Score</th>\n",
       "      <th>Testing_Score</th>\n",
       "    </tr>\n",
       "  </thead>\n",
       "  <tbody>\n",
       "    <tr>\n",
       "      <th>0</th>\n",
       "      <td>Logistic Regression</td>\n",
       "      <td>77.47</td>\n",
       "      <td>81.40</td>\n",
       "    </tr>\n",
       "    <tr>\n",
       "      <th>2</th>\n",
       "      <td>Random Forest</td>\n",
       "      <td>97.04</td>\n",
       "      <td>77.44</td>\n",
       "    </tr>\n",
       "    <tr>\n",
       "      <th>1</th>\n",
       "      <td>Decison Tree</td>\n",
       "      <td>97.04</td>\n",
       "      <td>75.91</td>\n",
       "    </tr>\n",
       "    <tr>\n",
       "      <th>5</th>\n",
       "      <td>Linear SVM</td>\n",
       "      <td>75.54</td>\n",
       "      <td>72.26</td>\n",
       "    </tr>\n",
       "    <tr>\n",
       "      <th>3</th>\n",
       "      <td>KNN</td>\n",
       "      <td>82.87</td>\n",
       "      <td>64.63</td>\n",
       "    </tr>\n",
       "    <tr>\n",
       "      <th>4</th>\n",
       "      <td>SVM</td>\n",
       "      <td>69.42</td>\n",
       "      <td>63.11</td>\n",
       "    </tr>\n",
       "  </tbody>\n",
       "</table>\n",
       "</div>"
      ],
      "text/plain": [
       "                 Model  Training_Score  Testing_Score\n",
       "0  Logistic Regression           77.47          81.40\n",
       "2        Random Forest           97.04          77.44\n",
       "1         Decison Tree           97.04          75.91\n",
       "5           Linear SVM           75.54          72.26\n",
       "3                  KNN           82.87          64.63\n",
       "4                  SVM           69.42          63.11"
      ]
     },
     "execution_count": 52,
     "metadata": {},
     "output_type": "execute_result"
    }
   ],
   "source": [
    "models = pd.DataFrame({'Model':['Logistic Regression','Decison Tree','Random Forest','KNN','SVM','Linear SVM'],\n",
    "                       'Training_Score':[train_log,train_decision_tree ,train_random_forest,train_knn,train_svc,train_linear_svm],\n",
    "                       'Testing_Score':[test_log,test_decision_tree ,test_random_forest,test_knn,test_svc,test_linear_svm]\n",
    "                      })\n",
    "models.sort_values(by='Testing_Score',ascending = False)"
   ]
  },
  {
   "cell_type": "markdown",
   "id": "07bdaf2b",
   "metadata": {},
   "source": [
    "# Confusion Matrix - Logistic Regression"
   ]
  },
  {
   "cell_type": "code",
   "execution_count": 68,
   "id": "495ad7a0",
   "metadata": {},
   "outputs": [
    {
     "name": "stdout",
     "output_type": "stream",
     "text": [
      "Accuracy: 81 % \n",
      "\n",
      "Confusion Matrix in Numbers\n",
      "[[172  23]\n",
      " [ 38  95]]\n",
      "\n",
      "Confusion Matrix in Percentage\n",
      "[[0.88 0.12]\n",
      " [0.29 0.71]]\n",
      "\n"
     ]
    },
    {
     "data": {
      "text/plain": [
       "<AxesSubplot:>"
      ]
     },
     "execution_count": 68,
     "metadata": {},
     "output_type": "execute_result"
    },
    {
     "data": {
      "image/png": "[encoded data removed]",
      "text/plain": [
       "<Figure size 1080x360 with 4 Axes>"
      ]
     },
     "metadata": {
      "needs_background": "light"
     },
     "output_type": "display_data"
    }
   ],
   "source": [
    "from sklearn.metrics import confusion_matrix\n",
    "import itertools\n",
    "\n",
    "model_LogisticRegression  = LogisticRegression()\n",
    "model_LogisticRegression .fit(X_train_scaled, y_train)\n",
    "y_pred = model_LogisticRegression .predict(X_test_scaled)\n",
    "\n",
    "acc = round(model_LogisticRegression.score(X_test_scaled, y_test) * 100, 2)\n",
    "print (\"Accuracy: %i %% \\n\"%acc)\n",
    "\n",
    "class_names = ['Survived', 'Not Survived']\n",
    "\n",
    "# Compute confusion matrix\n",
    "cnf_matrix = confusion_matrix(y_test, y_pred)\n",
    "np.set_printoptions(precision=2)\n",
    "\n",
    "print ('Confusion Matrix in Numbers')\n",
    "print (cnf_matrix)\n",
    "print ('')\n",
    "\n",
    "cnf_matrix_percent = cnf_matrix.astype('float') / cnf_matrix.sum(axis=1)[:, np.newaxis]\n",
    "\n",
    "print ('Confusion Matrix in Percentage')\n",
    "print (cnf_matrix_percent)\n",
    "print ('')\n",
    "\n",
    "true_class_names = ['True Survived', 'True Not Survived']\n",
    "predicted_class_names = ['Predicted Survived', 'Predicted Not Survived']\n",
    "\n",
    "df_cnf_matrix = pd.DataFrame(cnf_matrix, \n",
    "                             index = true_class_names,\n",
    "                             columns = predicted_class_names)\n",
    "\n",
    "df_cnf_matrix_percent = pd.DataFrame(cnf_matrix_percent, \n",
    "                                     index = true_class_names,\n",
    "                                     columns = predicted_class_names)\n",
    "\n",
    "plt.figure(figsize = (15,5))\n",
    "\n",
    "plt.subplot(121)\n",
    "sns.heatmap(df_cnf_matrix, annot=True, fmt='d')\n",
    "\n",
    "plt.subplot(122)\n",
    "sns.heatmap(df_cnf_matrix_percent, annot=True)"
   ]
  },
  {
   "cell_type": "markdown",
   "id": "b0e0201e",
   "metadata": {},
   "source": [
    "## Exporting Model"
   ]
  },
  {
   "cell_type": "code",
   "execution_count": 45,
   "id": "c43a67ce",
   "metadata": {},
   "outputs": [],
   "source": [
    "import pickle\n",
    "\n",
    "list_pickle_path = 'LogisticRegression_Model.pkl'\n",
    "list_pickle = open(list_pickle_path, 'wb')\n",
    "\n",
    "pickle.dump(model_LogisticRegression, list_pickle)\n",
    "list_pickle.close()"
   ]
  },
  {
   "cell_type": "code",
   "execution_count": 46,
   "id": "b383d60a",
   "metadata": {},
   "outputs": [],
   "source": [
    "import pickle\n",
    "\n",
    "list_pickle_path = 'SVM_Model.pkl'\n",
    "list_pickle = open(list_pickle_path, 'wb')\n",
    "\n",
    "pickle.dump(svm, list_pickle)\n",
    "list_pickle.close()"
   ]
  },
  {
   "cell_type": "code",
   "execution_count": null,
   "id": "4b632552",
   "metadata": {},
   "outputs": [],
   "source": []
  }
 ],
 "metadata": {
  "kernelspec": {
   "display_name": "Python 3",
   "language": "python",
   "name": "python3"
  },
  "language_info": {
   "codemirror_mode": {
    "name": "ipython",
    "version": 3
   },
   "file_extension": ".py",
   "mimetype": "text/x-python",
   "name": "python",
   "nbconvert_exporter": "python",
   "pygments_lexer": "ipython3",
   "version": "3.8.8"
  }
 },
 "nbformat": 4,
 "nbformat_minor": 5
}
